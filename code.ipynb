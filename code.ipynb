{
 "cells": [
  {
   "cell_type": "code",
   "execution_count": 1,
   "id": "cc7801a0",
   "metadata": {},
   "outputs": [],
   "source": [
    "import numpy as np\n",
    "import pandas as pd\n",
    "import matplotlib.pyplot as plt\n",
    "import seaborn as sns"
   ]
  },
  {
   "cell_type": "code",
   "execution_count": 2,
   "id": "31358494",
   "metadata": {},
   "outputs": [],
   "source": [
    "df = pd.read_csv(\"dataset/archive/CVD_cleaned.csv\")"
   ]
  },
  {
   "cell_type": "code",
   "execution_count": 3,
   "id": "be571a04",
   "metadata": {},
   "outputs": [
    {
     "data": {
      "text/html": [
       "<div>\n",
       "<style scoped>\n",
       "    .dataframe tbody tr th:only-of-type {\n",
       "        vertical-align: middle;\n",
       "    }\n",
       "\n",
       "    .dataframe tbody tr th {\n",
       "        vertical-align: top;\n",
       "    }\n",
       "\n",
       "    .dataframe thead th {\n",
       "        text-align: right;\n",
       "    }\n",
       "</style>\n",
       "<table border=\"1\" class=\"dataframe\">\n",
       "  <thead>\n",
       "    <tr style=\"text-align: right;\">\n",
       "      <th></th>\n",
       "      <th>General_Health</th>\n",
       "      <th>Checkup</th>\n",
       "      <th>Exercise</th>\n",
       "      <th>Heart_Disease</th>\n",
       "      <th>Skin_Cancer</th>\n",
       "      <th>Other_Cancer</th>\n",
       "      <th>Depression</th>\n",
       "      <th>Diabetes</th>\n",
       "      <th>Arthritis</th>\n",
       "      <th>Sex</th>\n",
       "      <th>Age_Category</th>\n",
       "      <th>Height_(cm)</th>\n",
       "      <th>Weight_(kg)</th>\n",
       "      <th>BMI</th>\n",
       "      <th>Smoking_History</th>\n",
       "      <th>Alcohol_Consumption</th>\n",
       "      <th>Fruit_Consumption</th>\n",
       "      <th>Green_Vegetables_Consumption</th>\n",
       "      <th>FriedPotato_Consumption</th>\n",
       "    </tr>\n",
       "  </thead>\n",
       "  <tbody>\n",
       "    <tr>\n",
       "      <th>0</th>\n",
       "      <td>Poor</td>\n",
       "      <td>Within the past 2 years</td>\n",
       "      <td>No</td>\n",
       "      <td>No</td>\n",
       "      <td>No</td>\n",
       "      <td>No</td>\n",
       "      <td>No</td>\n",
       "      <td>No</td>\n",
       "      <td>Yes</td>\n",
       "      <td>Female</td>\n",
       "      <td>70-74</td>\n",
       "      <td>150.0</td>\n",
       "      <td>32.66</td>\n",
       "      <td>14.54</td>\n",
       "      <td>Yes</td>\n",
       "      <td>0.0</td>\n",
       "      <td>30.0</td>\n",
       "      <td>16.0</td>\n",
       "      <td>12.0</td>\n",
       "    </tr>\n",
       "    <tr>\n",
       "      <th>1</th>\n",
       "      <td>Very Good</td>\n",
       "      <td>Within the past year</td>\n",
       "      <td>No</td>\n",
       "      <td>Yes</td>\n",
       "      <td>No</td>\n",
       "      <td>No</td>\n",
       "      <td>No</td>\n",
       "      <td>Yes</td>\n",
       "      <td>No</td>\n",
       "      <td>Female</td>\n",
       "      <td>70-74</td>\n",
       "      <td>165.0</td>\n",
       "      <td>77.11</td>\n",
       "      <td>28.29</td>\n",
       "      <td>No</td>\n",
       "      <td>0.0</td>\n",
       "      <td>30.0</td>\n",
       "      <td>0.0</td>\n",
       "      <td>4.0</td>\n",
       "    </tr>\n",
       "    <tr>\n",
       "      <th>2</th>\n",
       "      <td>Very Good</td>\n",
       "      <td>Within the past year</td>\n",
       "      <td>Yes</td>\n",
       "      <td>No</td>\n",
       "      <td>No</td>\n",
       "      <td>No</td>\n",
       "      <td>No</td>\n",
       "      <td>Yes</td>\n",
       "      <td>No</td>\n",
       "      <td>Female</td>\n",
       "      <td>60-64</td>\n",
       "      <td>163.0</td>\n",
       "      <td>88.45</td>\n",
       "      <td>33.47</td>\n",
       "      <td>No</td>\n",
       "      <td>4.0</td>\n",
       "      <td>12.0</td>\n",
       "      <td>3.0</td>\n",
       "      <td>16.0</td>\n",
       "    </tr>\n",
       "    <tr>\n",
       "      <th>3</th>\n",
       "      <td>Poor</td>\n",
       "      <td>Within the past year</td>\n",
       "      <td>Yes</td>\n",
       "      <td>Yes</td>\n",
       "      <td>No</td>\n",
       "      <td>No</td>\n",
       "      <td>No</td>\n",
       "      <td>Yes</td>\n",
       "      <td>No</td>\n",
       "      <td>Male</td>\n",
       "      <td>75-79</td>\n",
       "      <td>180.0</td>\n",
       "      <td>93.44</td>\n",
       "      <td>28.73</td>\n",
       "      <td>No</td>\n",
       "      <td>0.0</td>\n",
       "      <td>30.0</td>\n",
       "      <td>30.0</td>\n",
       "      <td>8.0</td>\n",
       "    </tr>\n",
       "    <tr>\n",
       "      <th>4</th>\n",
       "      <td>Good</td>\n",
       "      <td>Within the past year</td>\n",
       "      <td>No</td>\n",
       "      <td>No</td>\n",
       "      <td>No</td>\n",
       "      <td>No</td>\n",
       "      <td>No</td>\n",
       "      <td>No</td>\n",
       "      <td>No</td>\n",
       "      <td>Male</td>\n",
       "      <td>80+</td>\n",
       "      <td>191.0</td>\n",
       "      <td>88.45</td>\n",
       "      <td>24.37</td>\n",
       "      <td>Yes</td>\n",
       "      <td>0.0</td>\n",
       "      <td>8.0</td>\n",
       "      <td>4.0</td>\n",
       "      <td>0.0</td>\n",
       "    </tr>\n",
       "  </tbody>\n",
       "</table>\n",
       "</div>"
      ],
      "text/plain": [
       "  General_Health                  Checkup Exercise Heart_Disease Skin_Cancer  \\\n",
       "0           Poor  Within the past 2 years       No            No          No   \n",
       "1      Very Good     Within the past year       No           Yes          No   \n",
       "2      Very Good     Within the past year      Yes            No          No   \n",
       "3           Poor     Within the past year      Yes           Yes          No   \n",
       "4           Good     Within the past year       No            No          No   \n",
       "\n",
       "  Other_Cancer Depression Diabetes Arthritis     Sex Age_Category  \\\n",
       "0           No         No       No       Yes  Female        70-74   \n",
       "1           No         No      Yes        No  Female        70-74   \n",
       "2           No         No      Yes        No  Female        60-64   \n",
       "3           No         No      Yes        No    Male        75-79   \n",
       "4           No         No       No        No    Male          80+   \n",
       "\n",
       "   Height_(cm)  Weight_(kg)    BMI Smoking_History  Alcohol_Consumption  \\\n",
       "0        150.0        32.66  14.54             Yes                  0.0   \n",
       "1        165.0        77.11  28.29              No                  0.0   \n",
       "2        163.0        88.45  33.47              No                  4.0   \n",
       "3        180.0        93.44  28.73              No                  0.0   \n",
       "4        191.0        88.45  24.37             Yes                  0.0   \n",
       "\n",
       "   Fruit_Consumption  Green_Vegetables_Consumption  FriedPotato_Consumption  \n",
       "0               30.0                          16.0                     12.0  \n",
       "1               30.0                           0.0                      4.0  \n",
       "2               12.0                           3.0                     16.0  \n",
       "3               30.0                          30.0                      8.0  \n",
       "4                8.0                           4.0                      0.0  "
      ]
     },
     "execution_count": 3,
     "metadata": {},
     "output_type": "execute_result"
    }
   ],
   "source": [
    "df.head(5)"
   ]
  },
  {
   "cell_type": "code",
   "execution_count": 4,
   "id": "aaf0f85e",
   "metadata": {},
   "outputs": [
    {
     "data": {
      "text/plain": [
       "General_Health                  False\n",
       "Checkup                         False\n",
       "Exercise                        False\n",
       "Heart_Disease                   False\n",
       "Skin_Cancer                     False\n",
       "Other_Cancer                    False\n",
       "Depression                      False\n",
       "Diabetes                        False\n",
       "Arthritis                       False\n",
       "Sex                             False\n",
       "Age_Category                    False\n",
       "Height_(cm)                     False\n",
       "Weight_(kg)                     False\n",
       "BMI                             False\n",
       "Smoking_History                 False\n",
       "Alcohol_Consumption             False\n",
       "Fruit_Consumption               False\n",
       "Green_Vegetables_Consumption    False\n",
       "FriedPotato_Consumption         False\n",
       "dtype: bool"
      ]
     },
     "execution_count": 4,
     "metadata": {},
     "output_type": "execute_result"
    }
   ],
   "source": [
    "df.isnull().sum() > 0"
   ]
  },
  {
   "cell_type": "code",
   "execution_count": 5,
   "id": "bd1f2f82",
   "metadata": {},
   "outputs": [],
   "source": [
    "##transformar em numérico"
   ]
  },
  {
   "cell_type": "code",
   "execution_count": 6,
   "id": "ae28367e",
   "metadata": {},
   "outputs": [
    {
     "data": {
      "text/plain": [
       "array(['Poor', 'Very Good', 'Good', 'Fair', 'Excellent'], dtype=object)"
      ]
     },
     "execution_count": 6,
     "metadata": {},
     "output_type": "execute_result"
    }
   ],
   "source": [
    "df['General_Health'].unique()"
   ]
  },
  {
   "cell_type": "markdown",
   "id": "fa1cf5b6",
   "metadata": {},
   "source": [
    "'Poor', 'Very Good', 'Good', 'Fair', 'Excellent' == variable ordinal "
   ]
  },
  {
   "cell_type": "code",
   "execution_count": 7,
   "id": "5c284437",
   "metadata": {},
   "outputs": [
    {
     "data": {
      "text/plain": [
       "array([0, 3, 2, 1, 4], dtype=int64)"
      ]
     },
     "execution_count": 7,
     "metadata": {},
     "output_type": "execute_result"
    }
   ],
   "source": [
    "General_Healthmap = {'Poor' : 0 , 'Very Good': 3, 'Good': 2, 'Fair' : 1, 'Excellent' : 4}\n",
    "\n",
    "df['General_Health'] =  df['General_Health'].map(General_Healthmap)\n",
    "df['General_Health'].unique()"
   ]
  },
  {
   "cell_type": "code",
   "execution_count": 8,
   "id": "7227da7b",
   "metadata": {},
   "outputs": [
    {
     "data": {
      "text/plain": [
       "{'Yes': 1, 'No': 0}"
      ]
     },
     "execution_count": 8,
     "metadata": {},
     "output_type": "execute_result"
    }
   ],
   "source": [
    "yesmap = {'Yes' : 1, 'No' : 0}\n",
    "yesmap"
   ]
  },
  {
   "cell_type": "code",
   "execution_count": 9,
   "id": "3796c9d2",
   "metadata": {},
   "outputs": [
    {
     "data": {
      "text/plain": [
       "0         0\n",
       "1         0\n",
       "2         1\n",
       "3         1\n",
       "4         0\n",
       "         ..\n",
       "308849    1\n",
       "308850    1\n",
       "308851    1\n",
       "308852    1\n",
       "308853    1\n",
       "Name: Exercise, Length: 308854, dtype: int64"
      ]
     },
     "execution_count": 9,
     "metadata": {},
     "output_type": "execute_result"
    }
   ],
   "source": [
    "df['Exercise'] = df['Exercise'].map(yesmap)\n",
    "df['Exercise']"
   ]
  },
  {
   "cell_type": "code",
   "execution_count": 10,
   "id": "16d9c397",
   "metadata": {},
   "outputs": [
    {
     "data": {
      "text/plain": [
       "0         0\n",
       "1         1\n",
       "2         0\n",
       "3         1\n",
       "4         0\n",
       "         ..\n",
       "308849    0\n",
       "308850    0\n",
       "308851    0\n",
       "308852    0\n",
       "308853    0\n",
       "Name: Heart_Disease, Length: 308854, dtype: int64"
      ]
     },
     "execution_count": 10,
     "metadata": {},
     "output_type": "execute_result"
    }
   ],
   "source": [
    "df['Heart_Disease'] = df['Heart_Disease'].map(yesmap)\n",
    "df['Heart_Disease']"
   ]
  },
  {
   "cell_type": "code",
   "execution_count": 11,
   "id": "ebdd4792",
   "metadata": {},
   "outputs": [
    {
     "data": {
      "text/plain": [
       "0         0\n",
       "1         0\n",
       "2         0\n",
       "3         0\n",
       "4         0\n",
       "         ..\n",
       "308849    0\n",
       "308850    0\n",
       "308851    1\n",
       "308852    0\n",
       "308853    0\n",
       "Name: Depression, Length: 308854, dtype: int64"
      ]
     },
     "execution_count": 11,
     "metadata": {},
     "output_type": "execute_result"
    }
   ],
   "source": [
    "df['Depression'] = df['Depression'].map(yesmap)\n",
    "df['Depression']"
   ]
  },
  {
   "cell_type": "code",
   "execution_count": 12,
   "id": "3aaae333",
   "metadata": {},
   "outputs": [
    {
     "data": {
      "text/plain": [
       "0         0.0\n",
       "1         0.0\n",
       "2         4.0\n",
       "3         0.0\n",
       "4         0.0\n",
       "         ... \n",
       "308849    4.0\n",
       "308850    8.0\n",
       "308851    4.0\n",
       "308852    3.0\n",
       "308853    1.0\n",
       "Name: Alcohol_Consumption, Length: 308854, dtype: float64"
      ]
     },
     "execution_count": 12,
     "metadata": {},
     "output_type": "execute_result"
    }
   ],
   "source": [
    "df['Alcohol_Consumption']"
   ]
  },
  {
   "cell_type": "code",
   "execution_count": 13,
   "id": "7c475b4a",
   "metadata": {},
   "outputs": [
    {
     "data": {
      "text/plain": [
       "0         0\n",
       "1         0\n",
       "2         0\n",
       "3         0\n",
       "4         0\n",
       "         ..\n",
       "308849    0\n",
       "308850    0\n",
       "308851    0\n",
       "308852    0\n",
       "308853    0\n",
       "Name: Skin_Cancer, Length: 308854, dtype: int64"
      ]
     },
     "execution_count": 13,
     "metadata": {},
     "output_type": "execute_result"
    }
   ],
   "source": [
    "df['Skin_Cancer'] = df['Skin_Cancer'].map(yesmap)\n",
    "df['Skin_Cancer']"
   ]
  },
  {
   "cell_type": "code",
   "execution_count": 14,
   "id": "255eaf55",
   "metadata": {},
   "outputs": [
    {
     "data": {
      "text/plain": [
       "0         0\n",
       "1         0\n",
       "2         0\n",
       "3         0\n",
       "4         0\n",
       "         ..\n",
       "308849    0\n",
       "308850    0\n",
       "308851    0\n",
       "308852    0\n",
       "308853    0\n",
       "Name: Other_Cancer, Length: 308854, dtype: int64"
      ]
     },
     "execution_count": 14,
     "metadata": {},
     "output_type": "execute_result"
    }
   ],
   "source": [
    "df['Other_Cancer'] = df['Other_Cancer'].map(yesmap)\n",
    "df['Other_Cancer']"
   ]
  },
  {
   "cell_type": "code",
   "execution_count": 15,
   "id": "99ddd202",
   "metadata": {},
   "outputs": [
    {
     "data": {
      "text/plain": [
       "0         1\n",
       "1         0\n",
       "2         0\n",
       "3         0\n",
       "4         0\n",
       "         ..\n",
       "308849    0\n",
       "308850    0\n",
       "308851    0\n",
       "308852    0\n",
       "308853    0\n",
       "Name: Arthritis, Length: 308854, dtype: int64"
      ]
     },
     "execution_count": 15,
     "metadata": {},
     "output_type": "execute_result"
    }
   ],
   "source": [
    "df['Arthritis']=df['Arthritis'].map(yesmap)\n",
    "df['Arthritis']"
   ]
  },
  {
   "cell_type": "code",
   "execution_count": 16,
   "id": "8e9af80b",
   "metadata": {},
   "outputs": [],
   "source": [
    "##sex is binary male = 1\n",
    "sexmap = {'Male' : 1, 'Female' : 0}"
   ]
  },
  {
   "cell_type": "code",
   "execution_count": 17,
   "id": "51087edb",
   "metadata": {},
   "outputs": [],
   "source": [
    "df['IsMale'] = df['Sex'].map(sexmap)\n",
    "df['IsMale']\n",
    "df.drop(columns='Sex', inplace = True)"
   ]
  },
  {
   "cell_type": "code",
   "execution_count": 18,
   "id": "44a3bcef",
   "metadata": {},
   "outputs": [
    {
     "data": {
      "text/plain": [
       "0         1\n",
       "1         0\n",
       "2         0\n",
       "3         0\n",
       "4         1\n",
       "         ..\n",
       "308849    0\n",
       "308850    0\n",
       "308851    1\n",
       "308852    0\n",
       "308853    0\n",
       "Name: Smoking_History, Length: 308854, dtype: int64"
      ]
     },
     "execution_count": 18,
     "metadata": {},
     "output_type": "execute_result"
    }
   ],
   "source": [
    "df['Smoking_History'] = df['Smoking_History'].map(yesmap)\n",
    "df['Smoking_History']"
   ]
  },
  {
   "cell_type": "code",
   "execution_count": 19,
   "id": "c4ad3b0b",
   "metadata": {},
   "outputs": [
    {
     "data": {
      "text/plain": [
       "array(['Within the past 2 years', 'Within the past year',\n",
       "       '5 or more years ago', 'Within the past 5 years', 'Never'],\n",
       "      dtype=object)"
      ]
     },
     "execution_count": 19,
     "metadata": {},
     "output_type": "execute_result"
    }
   ],
   "source": [
    "df['Checkup'].unique()"
   ]
  },
  {
   "cell_type": "markdown",
   "id": "10f3276b",
   "metadata": {},
   "source": [
    "# CheckUp - ordinal\n",
    "'Within the past 2 years', 'Within the past year', '5 or more years ago', 'Within the past 5 years', 'Never'] -ordinal"
   ]
  },
  {
   "cell_type": "code",
   "execution_count": 20,
   "id": "ec8bc052",
   "metadata": {},
   "outputs": [
    {
     "data": {
      "text/plain": [
       "{'Within the past year': 0,\n",
       " 'Within the past 2 years': 1,\n",
       " 'Within the past 5 years': 2,\n",
       " '5 or more years ago': 3,\n",
       " 'Never': 4}"
      ]
     },
     "execution_count": 20,
     "metadata": {},
     "output_type": "execute_result"
    }
   ],
   "source": [
    "CheckUpmap = {'Within the past year' : 0 , 'Within the past 2 years' : 1,  'Within the past 5 years' : 2 , '5 or more years ago' : 3, \n",
    "                'Never' : 4}\n",
    "CheckUpmap"
   ]
  },
  {
   "cell_type": "code",
   "execution_count": 21,
   "id": "5616a891",
   "metadata": {},
   "outputs": [
    {
     "data": {
      "text/plain": [
       "array([1, 0, 3, 2, 4], dtype=int64)"
      ]
     },
     "execution_count": 21,
     "metadata": {},
     "output_type": "execute_result"
    }
   ],
   "source": [
    "df['Checkup'] = df['Checkup'].map(CheckUpmap)\n",
    "df['Checkup'].unique()\n"
   ]
  },
  {
   "cell_type": "code",
   "execution_count": 22,
   "id": "a14c8786",
   "metadata": {},
   "outputs": [
    {
     "data": {
      "text/html": [
       "<div>\n",
       "<style scoped>\n",
       "    .dataframe tbody tr th:only-of-type {\n",
       "        vertical-align: middle;\n",
       "    }\n",
       "\n",
       "    .dataframe tbody tr th {\n",
       "        vertical-align: top;\n",
       "    }\n",
       "\n",
       "    .dataframe thead th {\n",
       "        text-align: right;\n",
       "    }\n",
       "</style>\n",
       "<table border=\"1\" class=\"dataframe\">\n",
       "  <thead>\n",
       "    <tr style=\"text-align: right;\">\n",
       "      <th></th>\n",
       "      <th>General_Health</th>\n",
       "      <th>Checkup</th>\n",
       "      <th>Exercise</th>\n",
       "      <th>Heart_Disease</th>\n",
       "      <th>Skin_Cancer</th>\n",
       "      <th>Other_Cancer</th>\n",
       "      <th>Depression</th>\n",
       "      <th>Diabetes</th>\n",
       "      <th>Arthritis</th>\n",
       "      <th>Age_Category</th>\n",
       "      <th>...</th>\n",
       "      <th>Smoking_History</th>\n",
       "      <th>Alcohol_Consumption</th>\n",
       "      <th>Fruit_Consumption</th>\n",
       "      <th>Green_Vegetables_Consumption</th>\n",
       "      <th>FriedPotato_Consumption</th>\n",
       "      <th>IsMale</th>\n",
       "      <th>Diabetes__No</th>\n",
       "      <th>Diabetes__No, pre-diabetes or borderline diabetes</th>\n",
       "      <th>Diabetes__Yes</th>\n",
       "      <th>Diabetes__Yes, but female told only during pregnancy</th>\n",
       "    </tr>\n",
       "  </thead>\n",
       "  <tbody>\n",
       "    <tr>\n",
       "      <th>0</th>\n",
       "      <td>0</td>\n",
       "      <td>1</td>\n",
       "      <td>0</td>\n",
       "      <td>0</td>\n",
       "      <td>0</td>\n",
       "      <td>0</td>\n",
       "      <td>0</td>\n",
       "      <td>No</td>\n",
       "      <td>1</td>\n",
       "      <td>70-74</td>\n",
       "      <td>...</td>\n",
       "      <td>1</td>\n",
       "      <td>0.0</td>\n",
       "      <td>30.0</td>\n",
       "      <td>16.0</td>\n",
       "      <td>12.0</td>\n",
       "      <td>0</td>\n",
       "      <td>1</td>\n",
       "      <td>0</td>\n",
       "      <td>0</td>\n",
       "      <td>0</td>\n",
       "    </tr>\n",
       "    <tr>\n",
       "      <th>1</th>\n",
       "      <td>3</td>\n",
       "      <td>0</td>\n",
       "      <td>0</td>\n",
       "      <td>1</td>\n",
       "      <td>0</td>\n",
       "      <td>0</td>\n",
       "      <td>0</td>\n",
       "      <td>Yes</td>\n",
       "      <td>0</td>\n",
       "      <td>70-74</td>\n",
       "      <td>...</td>\n",
       "      <td>0</td>\n",
       "      <td>0.0</td>\n",
       "      <td>30.0</td>\n",
       "      <td>0.0</td>\n",
       "      <td>4.0</td>\n",
       "      <td>0</td>\n",
       "      <td>0</td>\n",
       "      <td>0</td>\n",
       "      <td>1</td>\n",
       "      <td>0</td>\n",
       "    </tr>\n",
       "    <tr>\n",
       "      <th>2</th>\n",
       "      <td>3</td>\n",
       "      <td>0</td>\n",
       "      <td>1</td>\n",
       "      <td>0</td>\n",
       "      <td>0</td>\n",
       "      <td>0</td>\n",
       "      <td>0</td>\n",
       "      <td>Yes</td>\n",
       "      <td>0</td>\n",
       "      <td>60-64</td>\n",
       "      <td>...</td>\n",
       "      <td>0</td>\n",
       "      <td>4.0</td>\n",
       "      <td>12.0</td>\n",
       "      <td>3.0</td>\n",
       "      <td>16.0</td>\n",
       "      <td>0</td>\n",
       "      <td>0</td>\n",
       "      <td>0</td>\n",
       "      <td>1</td>\n",
       "      <td>0</td>\n",
       "    </tr>\n",
       "    <tr>\n",
       "      <th>3</th>\n",
       "      <td>0</td>\n",
       "      <td>0</td>\n",
       "      <td>1</td>\n",
       "      <td>1</td>\n",
       "      <td>0</td>\n",
       "      <td>0</td>\n",
       "      <td>0</td>\n",
       "      <td>Yes</td>\n",
       "      <td>0</td>\n",
       "      <td>75-79</td>\n",
       "      <td>...</td>\n",
       "      <td>0</td>\n",
       "      <td>0.0</td>\n",
       "      <td>30.0</td>\n",
       "      <td>30.0</td>\n",
       "      <td>8.0</td>\n",
       "      <td>1</td>\n",
       "      <td>0</td>\n",
       "      <td>0</td>\n",
       "      <td>1</td>\n",
       "      <td>0</td>\n",
       "    </tr>\n",
       "    <tr>\n",
       "      <th>4</th>\n",
       "      <td>2</td>\n",
       "      <td>0</td>\n",
       "      <td>0</td>\n",
       "      <td>0</td>\n",
       "      <td>0</td>\n",
       "      <td>0</td>\n",
       "      <td>0</td>\n",
       "      <td>No</td>\n",
       "      <td>0</td>\n",
       "      <td>80+</td>\n",
       "      <td>...</td>\n",
       "      <td>1</td>\n",
       "      <td>0.0</td>\n",
       "      <td>8.0</td>\n",
       "      <td>4.0</td>\n",
       "      <td>0.0</td>\n",
       "      <td>1</td>\n",
       "      <td>1</td>\n",
       "      <td>0</td>\n",
       "      <td>0</td>\n",
       "      <td>0</td>\n",
       "    </tr>\n",
       "  </tbody>\n",
       "</table>\n",
       "<p>5 rows × 23 columns</p>\n",
       "</div>"
      ],
      "text/plain": [
       "   General_Health  Checkup  Exercise  Heart_Disease  Skin_Cancer  \\\n",
       "0               0        1         0              0            0   \n",
       "1               3        0         0              1            0   \n",
       "2               3        0         1              0            0   \n",
       "3               0        0         1              1            0   \n",
       "4               2        0         0              0            0   \n",
       "\n",
       "   Other_Cancer  Depression Diabetes  Arthritis Age_Category  ...  \\\n",
       "0             0           0       No          1        70-74  ...   \n",
       "1             0           0      Yes          0        70-74  ...   \n",
       "2             0           0      Yes          0        60-64  ...   \n",
       "3             0           0      Yes          0        75-79  ...   \n",
       "4             0           0       No          0          80+  ...   \n",
       "\n",
       "   Smoking_History  Alcohol_Consumption  Fruit_Consumption  \\\n",
       "0                1                  0.0               30.0   \n",
       "1                0                  0.0               30.0   \n",
       "2                0                  4.0               12.0   \n",
       "3                0                  0.0               30.0   \n",
       "4                1                  0.0                8.0   \n",
       "\n",
       "   Green_Vegetables_Consumption  FriedPotato_Consumption  IsMale  \\\n",
       "0                          16.0                     12.0       0   \n",
       "1                           0.0                      4.0       0   \n",
       "2                           3.0                     16.0       0   \n",
       "3                          30.0                      8.0       1   \n",
       "4                           4.0                      0.0       1   \n",
       "\n",
       "   Diabetes__No  Diabetes__No, pre-diabetes or borderline diabetes  \\\n",
       "0             1                                                  0   \n",
       "1             0                                                  0   \n",
       "2             0                                                  0   \n",
       "3             0                                                  0   \n",
       "4             1                                                  0   \n",
       "\n",
       "   Diabetes__Yes  Diabetes__Yes, but female told only during pregnancy  \n",
       "0              0                                                  0     \n",
       "1              1                                                  0     \n",
       "2              1                                                  0     \n",
       "3              1                                                  0     \n",
       "4              0                                                  0     \n",
       "\n",
       "[5 rows x 23 columns]"
      ]
     },
     "execution_count": 22,
     "metadata": {},
     "output_type": "execute_result"
    }
   ],
   "source": [
    "diabetes = pd.get_dummies(data = df['Diabetes'], prefix = \"Diabetes_\")\n",
    "diabetes.head()\n",
    "\n",
    "df = pd.concat([df, diabetes], axis=1)\n",
    "df.head()\n"
   ]
  },
  {
   "cell_type": "code",
   "execution_count": 23,
   "id": "84eebdc5",
   "metadata": {},
   "outputs": [],
   "source": [
    "df.drop(columns='Diabetes' , inplace=True)"
   ]
  },
  {
   "cell_type": "code",
   "execution_count": 24,
   "id": "778e6405",
   "metadata": {},
   "outputs": [
    {
     "data": {
      "text/plain": [
       "array(['70-74', '60-64', '75-79', '80+', '65-69', '50-54', '45-49',\n",
       "       '18-24', '30-34', '55-59', '35-39', '40-44', '25-29'], dtype=object)"
      ]
     },
     "execution_count": 24,
     "metadata": {},
     "output_type": "execute_result"
    }
   ],
   "source": [
    "df['Age_Category'].unique()"
   ]
  },
  {
   "cell_type": "code",
   "execution_count": 25,
   "id": "348675ab",
   "metadata": {},
   "outputs": [],
   "source": [
    "\n",
    "Agecatmap = {'18-24' : 1 ,  '25-29' : 2, '30-34' : 3,  '35-39' : 4, '40-44' : 5 , '45-49' : 6,'50-54' : 7, '55-59' : 8 ,'60-64' : 9,  '65-69' : 10 ,'70-74' : 11 ,'75-79' : 12, '80+' : 13}"
   ]
  },
  {
   "cell_type": "code",
   "execution_count": 26,
   "id": "3580acab",
   "metadata": {},
   "outputs": [
    {
     "data": {
      "text/plain": [
       "array([11,  9, 12, 13, 10,  7,  6,  1,  3,  8,  4,  5,  2], dtype=int64)"
      ]
     },
     "execution_count": 26,
     "metadata": {},
     "output_type": "execute_result"
    }
   ],
   "source": [
    "df['Age_Category'] = df['Age_Category'].map(Agecatmap)\n",
    "df['Age_Category'].unique()"
   ]
  },
  {
   "cell_type": "code",
   "execution_count": null,
   "id": "cdbd8981",
   "metadata": {},
   "outputs": [],
   "source": []
  },
  {
   "cell_type": "code",
   "execution_count": 27,
   "id": "ee72e653",
   "metadata": {},
   "outputs": [
    {
     "data": {
      "text/plain": [
       "General_Health                                            int64\n",
       "Checkup                                                   int64\n",
       "Exercise                                                  int64\n",
       "Heart_Disease                                             int64\n",
       "Skin_Cancer                                               int64\n",
       "Other_Cancer                                              int64\n",
       "Depression                                                int64\n",
       "Arthritis                                                 int64\n",
       "Age_Category                                              int64\n",
       "Height_(cm)                                             float64\n",
       "Weight_(kg)                                             float64\n",
       "BMI                                                     float64\n",
       "Smoking_History                                           int64\n",
       "Alcohol_Consumption                                     float64\n",
       "Fruit_Consumption                                       float64\n",
       "Green_Vegetables_Consumption                            float64\n",
       "FriedPotato_Consumption                                 float64\n",
       "IsMale                                                    int64\n",
       "Diabetes__No                                              uint8\n",
       "Diabetes__No, pre-diabetes or borderline diabetes         uint8\n",
       "Diabetes__Yes                                             uint8\n",
       "Diabetes__Yes, but female told only during pregnancy      uint8\n",
       "dtype: object"
      ]
     },
     "execution_count": 27,
     "metadata": {},
     "output_type": "execute_result"
    }
   ],
   "source": [
    "df.dtypes"
   ]
  },
  {
   "cell_type": "code",
   "execution_count": null,
   "id": "e1f2cbd7",
   "metadata": {},
   "outputs": [],
   "source": []
  },
  {
   "cell_type": "code",
   "execution_count": null,
   "id": "718c1950",
   "metadata": {},
   "outputs": [],
   "source": []
  },
  {
   "cell_type": "code",
   "execution_count": null,
   "id": "5336c4df",
   "metadata": {},
   "outputs": [],
   "source": []
  },
  {
   "cell_type": "code",
   "execution_count": null,
   "id": "6000dfad",
   "metadata": {},
   "outputs": [],
   "source": []
  }
 ],
 "metadata": {
  "kernelspec": {
   "display_name": "Python 3 (ipykernel)",
   "language": "python",
   "name": "python3"
  },
  "language_info": {
   "codemirror_mode": {
    "name": "ipython",
    "version": 3
   },
   "file_extension": ".py",
   "mimetype": "text/x-python",
   "name": "python",
   "nbconvert_exporter": "python",
   "pygments_lexer": "ipython3",
   "version": "3.10.9"
  }
 },
 "nbformat": 4,
 "nbformat_minor": 5
}
