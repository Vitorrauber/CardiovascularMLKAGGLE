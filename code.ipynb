{
 "cells": [
  {
   "cell_type": "code",
   "execution_count": 1,
   "id": "cc7801a0",
   "metadata": {},
   "outputs": [],
   "source": [
    "import numpy as np\n",
    "import pandas as pd\n",
    "import matplotlib.pyplot as plt\n",
    "import seaborn as sns"
   ]
  },
  {
   "cell_type": "code",
   "execution_count": 2,
   "id": "31358494",
   "metadata": {},
   "outputs": [],
   "source": [
    "df = pd.read_csv(\"dataset/archive/CVD_cleaned.csv\")\n",
    "#https://www.kaggle.com/datasets/alphiree/cardiovascular-diseases-risk-prediction-dataset"
   ]
  },
  {
   "cell_type": "code",
   "execution_count": 3,
   "id": "be571a04",
   "metadata": {},
   "outputs": [
    {
     "data": {
      "text/html": [
       "<div>\n",
       "<style scoped>\n",
       "    .dataframe tbody tr th:only-of-type {\n",
       "        vertical-align: middle;\n",
       "    }\n",
       "\n",
       "    .dataframe tbody tr th {\n",
       "        vertical-align: top;\n",
       "    }\n",
       "\n",
       "    .dataframe thead th {\n",
       "        text-align: right;\n",
       "    }\n",
       "</style>\n",
       "<table border=\"1\" class=\"dataframe\">\n",
       "  <thead>\n",
       "    <tr style=\"text-align: right;\">\n",
       "      <th></th>\n",
       "      <th>General_Health</th>\n",
       "      <th>Checkup</th>\n",
       "      <th>Exercise</th>\n",
       "      <th>Heart_Disease</th>\n",
       "      <th>Skin_Cancer</th>\n",
       "      <th>Other_Cancer</th>\n",
       "      <th>Depression</th>\n",
       "      <th>Diabetes</th>\n",
       "      <th>Arthritis</th>\n",
       "      <th>Sex</th>\n",
       "      <th>Age_Category</th>\n",
       "      <th>Height_(cm)</th>\n",
       "      <th>Weight_(kg)</th>\n",
       "      <th>BMI</th>\n",
       "      <th>Smoking_History</th>\n",
       "      <th>Alcohol_Consumption</th>\n",
       "      <th>Fruit_Consumption</th>\n",
       "      <th>Green_Vegetables_Consumption</th>\n",
       "      <th>FriedPotato_Consumption</th>\n",
       "    </tr>\n",
       "  </thead>\n",
       "  <tbody>\n",
       "    <tr>\n",
       "      <th>0</th>\n",
       "      <td>Poor</td>\n",
       "      <td>Within the past 2 years</td>\n",
       "      <td>No</td>\n",
       "      <td>No</td>\n",
       "      <td>No</td>\n",
       "      <td>No</td>\n",
       "      <td>No</td>\n",
       "      <td>No</td>\n",
       "      <td>Yes</td>\n",
       "      <td>Female</td>\n",
       "      <td>70-74</td>\n",
       "      <td>150.0</td>\n",
       "      <td>32.66</td>\n",
       "      <td>14.54</td>\n",
       "      <td>Yes</td>\n",
       "      <td>0.0</td>\n",
       "      <td>30.0</td>\n",
       "      <td>16.0</td>\n",
       "      <td>12.0</td>\n",
       "    </tr>\n",
       "    <tr>\n",
       "      <th>1</th>\n",
       "      <td>Very Good</td>\n",
       "      <td>Within the past year</td>\n",
       "      <td>No</td>\n",
       "      <td>Yes</td>\n",
       "      <td>No</td>\n",
       "      <td>No</td>\n",
       "      <td>No</td>\n",
       "      <td>Yes</td>\n",
       "      <td>No</td>\n",
       "      <td>Female</td>\n",
       "      <td>70-74</td>\n",
       "      <td>165.0</td>\n",
       "      <td>77.11</td>\n",
       "      <td>28.29</td>\n",
       "      <td>No</td>\n",
       "      <td>0.0</td>\n",
       "      <td>30.0</td>\n",
       "      <td>0.0</td>\n",
       "      <td>4.0</td>\n",
       "    </tr>\n",
       "    <tr>\n",
       "      <th>2</th>\n",
       "      <td>Very Good</td>\n",
       "      <td>Within the past year</td>\n",
       "      <td>Yes</td>\n",
       "      <td>No</td>\n",
       "      <td>No</td>\n",
       "      <td>No</td>\n",
       "      <td>No</td>\n",
       "      <td>Yes</td>\n",
       "      <td>No</td>\n",
       "      <td>Female</td>\n",
       "      <td>60-64</td>\n",
       "      <td>163.0</td>\n",
       "      <td>88.45</td>\n",
       "      <td>33.47</td>\n",
       "      <td>No</td>\n",
       "      <td>4.0</td>\n",
       "      <td>12.0</td>\n",
       "      <td>3.0</td>\n",
       "      <td>16.0</td>\n",
       "    </tr>\n",
       "    <tr>\n",
       "      <th>3</th>\n",
       "      <td>Poor</td>\n",
       "      <td>Within the past year</td>\n",
       "      <td>Yes</td>\n",
       "      <td>Yes</td>\n",
       "      <td>No</td>\n",
       "      <td>No</td>\n",
       "      <td>No</td>\n",
       "      <td>Yes</td>\n",
       "      <td>No</td>\n",
       "      <td>Male</td>\n",
       "      <td>75-79</td>\n",
       "      <td>180.0</td>\n",
       "      <td>93.44</td>\n",
       "      <td>28.73</td>\n",
       "      <td>No</td>\n",
       "      <td>0.0</td>\n",
       "      <td>30.0</td>\n",
       "      <td>30.0</td>\n",
       "      <td>8.0</td>\n",
       "    </tr>\n",
       "    <tr>\n",
       "      <th>4</th>\n",
       "      <td>Good</td>\n",
       "      <td>Within the past year</td>\n",
       "      <td>No</td>\n",
       "      <td>No</td>\n",
       "      <td>No</td>\n",
       "      <td>No</td>\n",
       "      <td>No</td>\n",
       "      <td>No</td>\n",
       "      <td>No</td>\n",
       "      <td>Male</td>\n",
       "      <td>80+</td>\n",
       "      <td>191.0</td>\n",
       "      <td>88.45</td>\n",
       "      <td>24.37</td>\n",
       "      <td>Yes</td>\n",
       "      <td>0.0</td>\n",
       "      <td>8.0</td>\n",
       "      <td>4.0</td>\n",
       "      <td>0.0</td>\n",
       "    </tr>\n",
       "  </tbody>\n",
       "</table>\n",
       "</div>"
      ],
      "text/plain": [
       "  General_Health                  Checkup Exercise Heart_Disease Skin_Cancer  \\\n",
       "0           Poor  Within the past 2 years       No            No          No   \n",
       "1      Very Good     Within the past year       No           Yes          No   \n",
       "2      Very Good     Within the past year      Yes            No          No   \n",
       "3           Poor     Within the past year      Yes           Yes          No   \n",
       "4           Good     Within the past year       No            No          No   \n",
       "\n",
       "  Other_Cancer Depression Diabetes Arthritis     Sex Age_Category  \\\n",
       "0           No         No       No       Yes  Female        70-74   \n",
       "1           No         No      Yes        No  Female        70-74   \n",
       "2           No         No      Yes        No  Female        60-64   \n",
       "3           No         No      Yes        No    Male        75-79   \n",
       "4           No         No       No        No    Male          80+   \n",
       "\n",
       "   Height_(cm)  Weight_(kg)    BMI Smoking_History  Alcohol_Consumption  \\\n",
       "0        150.0        32.66  14.54             Yes                  0.0   \n",
       "1        165.0        77.11  28.29              No                  0.0   \n",
       "2        163.0        88.45  33.47              No                  4.0   \n",
       "3        180.0        93.44  28.73              No                  0.0   \n",
       "4        191.0        88.45  24.37             Yes                  0.0   \n",
       "\n",
       "   Fruit_Consumption  Green_Vegetables_Consumption  FriedPotato_Consumption  \n",
       "0               30.0                          16.0                     12.0  \n",
       "1               30.0                           0.0                      4.0  \n",
       "2               12.0                           3.0                     16.0  \n",
       "3               30.0                          30.0                      8.0  \n",
       "4                8.0                           4.0                      0.0  "
      ]
     },
     "execution_count": 3,
     "metadata": {},
     "output_type": "execute_result"
    }
   ],
   "source": [
    "df.head(5)"
   ]
  },
  {
   "cell_type": "code",
   "execution_count": 4,
   "id": "aaf0f85e",
   "metadata": {},
   "outputs": [
    {
     "data": {
      "text/plain": [
       "General_Health                  False\n",
       "Checkup                         False\n",
       "Exercise                        False\n",
       "Heart_Disease                   False\n",
       "Skin_Cancer                     False\n",
       "Other_Cancer                    False\n",
       "Depression                      False\n",
       "Diabetes                        False\n",
       "Arthritis                       False\n",
       "Sex                             False\n",
       "Age_Category                    False\n",
       "Height_(cm)                     False\n",
       "Weight_(kg)                     False\n",
       "BMI                             False\n",
       "Smoking_History                 False\n",
       "Alcohol_Consumption             False\n",
       "Fruit_Consumption               False\n",
       "Green_Vegetables_Consumption    False\n",
       "FriedPotato_Consumption         False\n",
       "dtype: bool"
      ]
     },
     "execution_count": 4,
     "metadata": {},
     "output_type": "execute_result"
    }
   ],
   "source": [
    "df.isnull().sum() > 0"
   ]
  },
  {
   "cell_type": "code",
   "execution_count": 5,
   "id": "bd1f2f82",
   "metadata": {},
   "outputs": [],
   "source": [
    "##transformar em numérico"
   ]
  },
  {
   "cell_type": "code",
   "execution_count": 6,
   "id": "ae28367e",
   "metadata": {},
   "outputs": [
    {
     "data": {
      "text/plain": [
       "array(['Poor', 'Very Good', 'Good', 'Fair', 'Excellent'], dtype=object)"
      ]
     },
     "execution_count": 6,
     "metadata": {},
     "output_type": "execute_result"
    }
   ],
   "source": [
    "df['General_Health'].unique()"
   ]
  },
  {
   "cell_type": "markdown",
   "id": "fa1cf5b6",
   "metadata": {},
   "source": [
    "'Poor', 'Very Good', 'Good', 'Fair', 'Excellent' == variable ordinal "
   ]
  },
  {
   "cell_type": "code",
   "execution_count": 7,
   "id": "5c284437",
   "metadata": {},
   "outputs": [
    {
     "data": {
      "text/plain": [
       "array([0, 3, 2, 1, 4], dtype=int64)"
      ]
     },
     "execution_count": 7,
     "metadata": {},
     "output_type": "execute_result"
    }
   ],
   "source": [
    "General_Healthmap = {'Poor' : 0 , 'Very Good': 3, 'Good': 2, 'Fair' : 1, 'Excellent' : 4}\n",
    "\n",
    "df['General_Health'] =  df['General_Health'].map(General_Healthmap)\n",
    "df['General_Health'].unique()"
   ]
  },
  {
   "cell_type": "code",
   "execution_count": 8,
   "id": "7227da7b",
   "metadata": {},
   "outputs": [
    {
     "data": {
      "text/plain": [
       "{'Yes': 1, 'No': 0}"
      ]
     },
     "execution_count": 8,
     "metadata": {},
     "output_type": "execute_result"
    }
   ],
   "source": [
    "yesmap = {'Yes' : 1, 'No' : 0}\n",
    "yesmap"
   ]
  },
  {
   "cell_type": "code",
   "execution_count": 9,
   "id": "3796c9d2",
   "metadata": {},
   "outputs": [
    {
     "data": {
      "text/plain": [
       "0         0\n",
       "1         0\n",
       "2         1\n",
       "3         1\n",
       "4         0\n",
       "         ..\n",
       "308849    1\n",
       "308850    1\n",
       "308851    1\n",
       "308852    1\n",
       "308853    1\n",
       "Name: Exercise, Length: 308854, dtype: int64"
      ]
     },
     "execution_count": 9,
     "metadata": {},
     "output_type": "execute_result"
    }
   ],
   "source": [
    "df['Exercise'] = df['Exercise'].map(yesmap)\n",
    "df['Exercise']"
   ]
  },
  {
   "cell_type": "code",
   "execution_count": 10,
   "id": "16d9c397",
   "metadata": {},
   "outputs": [
    {
     "data": {
      "text/plain": [
       "0         0\n",
       "1         1\n",
       "2         0\n",
       "3         1\n",
       "4         0\n",
       "         ..\n",
       "308849    0\n",
       "308850    0\n",
       "308851    0\n",
       "308852    0\n",
       "308853    0\n",
       "Name: Heart_Disease, Length: 308854, dtype: int64"
      ]
     },
     "execution_count": 10,
     "metadata": {},
     "output_type": "execute_result"
    }
   ],
   "source": [
    "df['Heart_Disease'] = df['Heart_Disease'].map(yesmap)\n",
    "df['Heart_Disease']"
   ]
  },
  {
   "cell_type": "code",
   "execution_count": 11,
   "id": "ebdd4792",
   "metadata": {},
   "outputs": [
    {
     "data": {
      "text/plain": [
       "0         0\n",
       "1         0\n",
       "2         0\n",
       "3         0\n",
       "4         0\n",
       "         ..\n",
       "308849    0\n",
       "308850    0\n",
       "308851    1\n",
       "308852    0\n",
       "308853    0\n",
       "Name: Depression, Length: 308854, dtype: int64"
      ]
     },
     "execution_count": 11,
     "metadata": {},
     "output_type": "execute_result"
    }
   ],
   "source": [
    "df['Depression'] = df['Depression'].map(yesmap)\n",
    "df['Depression']"
   ]
  },
  {
   "cell_type": "code",
   "execution_count": 12,
   "id": "3aaae333",
   "metadata": {},
   "outputs": [
    {
     "data": {
      "text/plain": [
       "0         0.0\n",
       "1         0.0\n",
       "2         4.0\n",
       "3         0.0\n",
       "4         0.0\n",
       "         ... \n",
       "308849    4.0\n",
       "308850    8.0\n",
       "308851    4.0\n",
       "308852    3.0\n",
       "308853    1.0\n",
       "Name: Alcohol_Consumption, Length: 308854, dtype: float64"
      ]
     },
     "execution_count": 12,
     "metadata": {},
     "output_type": "execute_result"
    }
   ],
   "source": [
    "df['Alcohol_Consumption']"
   ]
  },
  {
   "cell_type": "code",
   "execution_count": 13,
   "id": "7c475b4a",
   "metadata": {},
   "outputs": [
    {
     "data": {
      "text/plain": [
       "0         0\n",
       "1         0\n",
       "2         0\n",
       "3         0\n",
       "4         0\n",
       "         ..\n",
       "308849    0\n",
       "308850    0\n",
       "308851    0\n",
       "308852    0\n",
       "308853    0\n",
       "Name: Skin_Cancer, Length: 308854, dtype: int64"
      ]
     },
     "execution_count": 13,
     "metadata": {},
     "output_type": "execute_result"
    }
   ],
   "source": [
    "df['Skin_Cancer'] = df['Skin_Cancer'].map(yesmap)\n",
    "df['Skin_Cancer']"
   ]
  },
  {
   "cell_type": "code",
   "execution_count": 14,
   "id": "255eaf55",
   "metadata": {},
   "outputs": [
    {
     "data": {
      "text/plain": [
       "0         0\n",
       "1         0\n",
       "2         0\n",
       "3         0\n",
       "4         0\n",
       "         ..\n",
       "308849    0\n",
       "308850    0\n",
       "308851    0\n",
       "308852    0\n",
       "308853    0\n",
       "Name: Other_Cancer, Length: 308854, dtype: int64"
      ]
     },
     "execution_count": 14,
     "metadata": {},
     "output_type": "execute_result"
    }
   ],
   "source": [
    "df['Other_Cancer'] = df['Other_Cancer'].map(yesmap)\n",
    "df['Other_Cancer']"
   ]
  },
  {
   "cell_type": "code",
   "execution_count": 15,
   "id": "99ddd202",
   "metadata": {},
   "outputs": [
    {
     "data": {
      "text/plain": [
       "0         1\n",
       "1         0\n",
       "2         0\n",
       "3         0\n",
       "4         0\n",
       "         ..\n",
       "308849    0\n",
       "308850    0\n",
       "308851    0\n",
       "308852    0\n",
       "308853    0\n",
       "Name: Arthritis, Length: 308854, dtype: int64"
      ]
     },
     "execution_count": 15,
     "metadata": {},
     "output_type": "execute_result"
    }
   ],
   "source": [
    "df['Arthritis']=df['Arthritis'].map(yesmap)\n",
    "df['Arthritis']"
   ]
  },
  {
   "cell_type": "code",
   "execution_count": 16,
   "id": "8e9af80b",
   "metadata": {},
   "outputs": [],
   "source": [
    "##sex is binary male = 1\n",
    "sexmap = {'Male' : 1, 'Female' : 0}"
   ]
  },
  {
   "cell_type": "code",
   "execution_count": 17,
   "id": "51087edb",
   "metadata": {},
   "outputs": [],
   "source": [
    "df['IsMale'] = df['Sex'].map(sexmap)\n",
    "df['IsMale']\n",
    "df.drop(columns='Sex', inplace = True)"
   ]
  },
  {
   "cell_type": "code",
   "execution_count": 18,
   "id": "44a3bcef",
   "metadata": {},
   "outputs": [
    {
     "data": {
      "text/plain": [
       "0         1\n",
       "1         0\n",
       "2         0\n",
       "3         0\n",
       "4         1\n",
       "         ..\n",
       "308849    0\n",
       "308850    0\n",
       "308851    1\n",
       "308852    0\n",
       "308853    0\n",
       "Name: Smoking_History, Length: 308854, dtype: int64"
      ]
     },
     "execution_count": 18,
     "metadata": {},
     "output_type": "execute_result"
    }
   ],
   "source": [
    "df['Smoking_History'] = df['Smoking_History'].map(yesmap)\n",
    "df['Smoking_History']"
   ]
  },
  {
   "cell_type": "code",
   "execution_count": 19,
   "id": "c4ad3b0b",
   "metadata": {},
   "outputs": [
    {
     "data": {
      "text/plain": [
       "array(['Within the past 2 years', 'Within the past year',\n",
       "       '5 or more years ago', 'Within the past 5 years', 'Never'],\n",
       "      dtype=object)"
      ]
     },
     "execution_count": 19,
     "metadata": {},
     "output_type": "execute_result"
    }
   ],
   "source": [
    "df['Checkup'].unique()"
   ]
  },
  {
   "cell_type": "markdown",
   "id": "10f3276b",
   "metadata": {},
   "source": [
    "# CheckUp - ordinal\n",
    "'Within the past 2 years', 'Within the past year', '5 or more years ago', 'Within the past 5 years', 'Never'] -ordinal"
   ]
  },
  {
   "cell_type": "code",
   "execution_count": 20,
   "id": "ec8bc052",
   "metadata": {},
   "outputs": [
    {
     "data": {
      "text/plain": [
       "{'Within the past year': 0,\n",
       " 'Within the past 2 years': 1,\n",
       " 'Within the past 5 years': 2,\n",
       " '5 or more years ago': 3,\n",
       " 'Never': 4}"
      ]
     },
     "execution_count": 20,
     "metadata": {},
     "output_type": "execute_result"
    }
   ],
   "source": [
    "CheckUpmap = {'Within the past year' : 0 , 'Within the past 2 years' : 1,  'Within the past 5 years' : 2 , '5 or more years ago' : 3, \n",
    "                'Never' : 4}\n",
    "CheckUpmap"
   ]
  },
  {
   "cell_type": "code",
   "execution_count": 21,
   "id": "5616a891",
   "metadata": {},
   "outputs": [
    {
     "data": {
      "text/plain": [
       "array([1, 0, 3, 2, 4], dtype=int64)"
      ]
     },
     "execution_count": 21,
     "metadata": {},
     "output_type": "execute_result"
    }
   ],
   "source": [
    "df['Checkup'] = df['Checkup'].map(CheckUpmap)\n",
    "df['Checkup'].unique()\n"
   ]
  },
  {
   "cell_type": "code",
   "execution_count": 22,
   "id": "a14c8786",
   "metadata": {},
   "outputs": [
    {
     "data": {
      "text/html": [
       "<div>\n",
       "<style scoped>\n",
       "    .dataframe tbody tr th:only-of-type {\n",
       "        vertical-align: middle;\n",
       "    }\n",
       "\n",
       "    .dataframe tbody tr th {\n",
       "        vertical-align: top;\n",
       "    }\n",
       "\n",
       "    .dataframe thead th {\n",
       "        text-align: right;\n",
       "    }\n",
       "</style>\n",
       "<table border=\"1\" class=\"dataframe\">\n",
       "  <thead>\n",
       "    <tr style=\"text-align: right;\">\n",
       "      <th></th>\n",
       "      <th>General_Health</th>\n",
       "      <th>Checkup</th>\n",
       "      <th>Exercise</th>\n",
       "      <th>Heart_Disease</th>\n",
       "      <th>Skin_Cancer</th>\n",
       "      <th>Other_Cancer</th>\n",
       "      <th>Depression</th>\n",
       "      <th>Diabetes</th>\n",
       "      <th>Arthritis</th>\n",
       "      <th>Age_Category</th>\n",
       "      <th>...</th>\n",
       "      <th>Smoking_History</th>\n",
       "      <th>Alcohol_Consumption</th>\n",
       "      <th>Fruit_Consumption</th>\n",
       "      <th>Green_Vegetables_Consumption</th>\n",
       "      <th>FriedPotato_Consumption</th>\n",
       "      <th>IsMale</th>\n",
       "      <th>Diabetes__No</th>\n",
       "      <th>Diabetes__No, pre-diabetes or borderline diabetes</th>\n",
       "      <th>Diabetes__Yes</th>\n",
       "      <th>Diabetes__Yes, but female told only during pregnancy</th>\n",
       "    </tr>\n",
       "  </thead>\n",
       "  <tbody>\n",
       "    <tr>\n",
       "      <th>0</th>\n",
       "      <td>0</td>\n",
       "      <td>1</td>\n",
       "      <td>0</td>\n",
       "      <td>0</td>\n",
       "      <td>0</td>\n",
       "      <td>0</td>\n",
       "      <td>0</td>\n",
       "      <td>No</td>\n",
       "      <td>1</td>\n",
       "      <td>70-74</td>\n",
       "      <td>...</td>\n",
       "      <td>1</td>\n",
       "      <td>0.0</td>\n",
       "      <td>30.0</td>\n",
       "      <td>16.0</td>\n",
       "      <td>12.0</td>\n",
       "      <td>0</td>\n",
       "      <td>1</td>\n",
       "      <td>0</td>\n",
       "      <td>0</td>\n",
       "      <td>0</td>\n",
       "    </tr>\n",
       "    <tr>\n",
       "      <th>1</th>\n",
       "      <td>3</td>\n",
       "      <td>0</td>\n",
       "      <td>0</td>\n",
       "      <td>1</td>\n",
       "      <td>0</td>\n",
       "      <td>0</td>\n",
       "      <td>0</td>\n",
       "      <td>Yes</td>\n",
       "      <td>0</td>\n",
       "      <td>70-74</td>\n",
       "      <td>...</td>\n",
       "      <td>0</td>\n",
       "      <td>0.0</td>\n",
       "      <td>30.0</td>\n",
       "      <td>0.0</td>\n",
       "      <td>4.0</td>\n",
       "      <td>0</td>\n",
       "      <td>0</td>\n",
       "      <td>0</td>\n",
       "      <td>1</td>\n",
       "      <td>0</td>\n",
       "    </tr>\n",
       "    <tr>\n",
       "      <th>2</th>\n",
       "      <td>3</td>\n",
       "      <td>0</td>\n",
       "      <td>1</td>\n",
       "      <td>0</td>\n",
       "      <td>0</td>\n",
       "      <td>0</td>\n",
       "      <td>0</td>\n",
       "      <td>Yes</td>\n",
       "      <td>0</td>\n",
       "      <td>60-64</td>\n",
       "      <td>...</td>\n",
       "      <td>0</td>\n",
       "      <td>4.0</td>\n",
       "      <td>12.0</td>\n",
       "      <td>3.0</td>\n",
       "      <td>16.0</td>\n",
       "      <td>0</td>\n",
       "      <td>0</td>\n",
       "      <td>0</td>\n",
       "      <td>1</td>\n",
       "      <td>0</td>\n",
       "    </tr>\n",
       "    <tr>\n",
       "      <th>3</th>\n",
       "      <td>0</td>\n",
       "      <td>0</td>\n",
       "      <td>1</td>\n",
       "      <td>1</td>\n",
       "      <td>0</td>\n",
       "      <td>0</td>\n",
       "      <td>0</td>\n",
       "      <td>Yes</td>\n",
       "      <td>0</td>\n",
       "      <td>75-79</td>\n",
       "      <td>...</td>\n",
       "      <td>0</td>\n",
       "      <td>0.0</td>\n",
       "      <td>30.0</td>\n",
       "      <td>30.0</td>\n",
       "      <td>8.0</td>\n",
       "      <td>1</td>\n",
       "      <td>0</td>\n",
       "      <td>0</td>\n",
       "      <td>1</td>\n",
       "      <td>0</td>\n",
       "    </tr>\n",
       "    <tr>\n",
       "      <th>4</th>\n",
       "      <td>2</td>\n",
       "      <td>0</td>\n",
       "      <td>0</td>\n",
       "      <td>0</td>\n",
       "      <td>0</td>\n",
       "      <td>0</td>\n",
       "      <td>0</td>\n",
       "      <td>No</td>\n",
       "      <td>0</td>\n",
       "      <td>80+</td>\n",
       "      <td>...</td>\n",
       "      <td>1</td>\n",
       "      <td>0.0</td>\n",
       "      <td>8.0</td>\n",
       "      <td>4.0</td>\n",
       "      <td>0.0</td>\n",
       "      <td>1</td>\n",
       "      <td>1</td>\n",
       "      <td>0</td>\n",
       "      <td>0</td>\n",
       "      <td>0</td>\n",
       "    </tr>\n",
       "  </tbody>\n",
       "</table>\n",
       "<p>5 rows × 23 columns</p>\n",
       "</div>"
      ],
      "text/plain": [
       "   General_Health  Checkup  Exercise  Heart_Disease  Skin_Cancer  \\\n",
       "0               0        1         0              0            0   \n",
       "1               3        0         0              1            0   \n",
       "2               3        0         1              0            0   \n",
       "3               0        0         1              1            0   \n",
       "4               2        0         0              0            0   \n",
       "\n",
       "   Other_Cancer  Depression Diabetes  Arthritis Age_Category  ...  \\\n",
       "0             0           0       No          1        70-74  ...   \n",
       "1             0           0      Yes          0        70-74  ...   \n",
       "2             0           0      Yes          0        60-64  ...   \n",
       "3             0           0      Yes          0        75-79  ...   \n",
       "4             0           0       No          0          80+  ...   \n",
       "\n",
       "   Smoking_History  Alcohol_Consumption  Fruit_Consumption  \\\n",
       "0                1                  0.0               30.0   \n",
       "1                0                  0.0               30.0   \n",
       "2                0                  4.0               12.0   \n",
       "3                0                  0.0               30.0   \n",
       "4                1                  0.0                8.0   \n",
       "\n",
       "   Green_Vegetables_Consumption  FriedPotato_Consumption  IsMale  \\\n",
       "0                          16.0                     12.0       0   \n",
       "1                           0.0                      4.0       0   \n",
       "2                           3.0                     16.0       0   \n",
       "3                          30.0                      8.0       1   \n",
       "4                           4.0                      0.0       1   \n",
       "\n",
       "   Diabetes__No  Diabetes__No, pre-diabetes or borderline diabetes  \\\n",
       "0             1                                                  0   \n",
       "1             0                                                  0   \n",
       "2             0                                                  0   \n",
       "3             0                                                  0   \n",
       "4             1                                                  0   \n",
       "\n",
       "   Diabetes__Yes  Diabetes__Yes, but female told only during pregnancy  \n",
       "0              0                                                  0     \n",
       "1              1                                                  0     \n",
       "2              1                                                  0     \n",
       "3              1                                                  0     \n",
       "4              0                                                  0     \n",
       "\n",
       "[5 rows x 23 columns]"
      ]
     },
     "execution_count": 22,
     "metadata": {},
     "output_type": "execute_result"
    }
   ],
   "source": [
    "diabetes = pd.get_dummies(data = df['Diabetes'], prefix = \"Diabetes_\")\n",
    "diabetes.head()\n",
    "\n",
    "df = pd.concat([df, diabetes], axis=1)\n",
    "df.head()\n"
   ]
  },
  {
   "cell_type": "code",
   "execution_count": 23,
   "id": "84eebdc5",
   "metadata": {},
   "outputs": [],
   "source": [
    "df.drop(columns='Diabetes' , inplace=True)"
   ]
  },
  {
   "cell_type": "code",
   "execution_count": 24,
   "id": "778e6405",
   "metadata": {},
   "outputs": [
    {
     "data": {
      "text/plain": [
       "array(['70-74', '60-64', '75-79', '80+', '65-69', '50-54', '45-49',\n",
       "       '18-24', '30-34', '55-59', '35-39', '40-44', '25-29'], dtype=object)"
      ]
     },
     "execution_count": 24,
     "metadata": {},
     "output_type": "execute_result"
    }
   ],
   "source": [
    "df['Age_Category'].unique()"
   ]
  },
  {
   "cell_type": "code",
   "execution_count": 25,
   "id": "348675ab",
   "metadata": {},
   "outputs": [],
   "source": [
    "\n",
    "Agecatmap = {'18-24' : 1 ,  '25-29' : 2, '30-34' : 3,  '35-39' : 4, '40-44' : 5 , '45-49' : 6,'50-54' : 7, '55-59' : 8 ,'60-64' : 9,  '65-69' : 10 ,'70-74' : 11 ,'75-79' : 12, '80+' : 13}"
   ]
  },
  {
   "cell_type": "code",
   "execution_count": 26,
   "id": "3580acab",
   "metadata": {},
   "outputs": [
    {
     "data": {
      "text/plain": [
       "array([11,  9, 12, 13, 10,  7,  6,  1,  3,  8,  4,  5,  2], dtype=int64)"
      ]
     },
     "execution_count": 26,
     "metadata": {},
     "output_type": "execute_result"
    }
   ],
   "source": [
    "df['Age_Category'] = df['Age_Category'].map(Agecatmap)\n",
    "df['Age_Category'].unique()"
   ]
  },
  {
   "cell_type": "code",
   "execution_count": null,
   "id": "cdbd8981",
   "metadata": {},
   "outputs": [],
   "source": []
  },
  {
   "cell_type": "code",
   "execution_count": 27,
   "id": "ee72e653",
   "metadata": {},
   "outputs": [
    {
     "data": {
      "text/plain": [
       "0"
      ]
     },
     "execution_count": 27,
     "metadata": {},
     "output_type": "execute_result"
    }
   ],
   "source": [
    "##checar se tem variavel null\n",
    "\n",
    "df.isnull().sum().sum() ##0"
   ]
  },
  {
   "cell_type": "code",
   "execution_count": 28,
   "id": "e1f2cbd7",
   "metadata": {},
   "outputs": [],
   "source": [
    "matrix = df.corr()"
   ]
  },
  {
   "cell_type": "code",
   "execution_count": 29,
   "id": "718c1950",
   "metadata": {},
   "outputs": [
    {
     "data": {
      "text/plain": [
       "<Axes: >"
      ]
     },
     "execution_count": 29,
     "metadata": {},
     "output_type": "execute_result"
    },
    {
     "data": {
      "image/png": "[encoded data removed]",
      "text/plain": [
       "<Figure size 640x480 with 2 Axes>"
      ]
     },
     "metadata": {},
     "output_type": "display_data"
    }
   ],
   "source": [
    "sns.heatmap(matrix, cmap='rainbow')"
   ]
  },
  {
   "cell_type": "code",
   "execution_count": 30,
   "id": "5336c4df",
   "metadata": {},
   "outputs": [
    {
     "data": {
      "text/plain": [
       "General_Health                                          0.232503\n",
       "Checkup                                                 0.085596\n",
       "Exercise                                                0.096347\n",
       "Heart_Disease                                           1.000000\n",
       "Skin_Cancer                                             0.090848\n",
       "Other_Cancer                                            0.092387\n",
       "Depression                                              0.032526\n",
       "Arthritis                                               0.153913\n",
       "Age_Category                                            0.229011\n",
       "Height_(cm)                                             0.015780\n",
       "Weight_(kg)                                             0.045875\n",
       "BMI                                                     0.042666\n",
       "Smoking_History                                         0.107797\n",
       "Alcohol_Consumption                                     0.036569\n",
       "Fruit_Consumption                                       0.020055\n",
       "Green_Vegetables_Consumption                            0.024043\n",
       "FriedPotato_Consumption                                 0.009227\n",
       "IsMale                                                  0.072595\n",
       "Diabetes__No                                            0.169569\n",
       "Diabetes__No, pre-diabetes or borderline diabetes       0.019008\n",
       "Diabetes__Yes                                           0.181072\n",
       "Diabetes__Yes, but female told only during pregnancy    0.015198\n",
       "Name: Heart_Disease, dtype: float64"
      ]
     },
     "execution_count": 30,
     "metadata": {},
     "output_type": "execute_result"
    }
   ],
   "source": [
    "abs(matrix['Heart_Disease'])"
   ]
  },
  {
   "cell_type": "markdown",
   "id": "ca471ad3",
   "metadata": {},
   "source": [
    "## Visualization"
   ]
  },
  {
   "cell_type": "code",
   "execution_count": 31,
   "id": "293afab3",
   "metadata": {},
   "outputs": [
    {
     "data": {
      "text/plain": [
       "<Axes: xlabel='Heart_Disease', ylabel='General_Health'>"
      ]
     },
     "execution_count": 31,
     "metadata": {},
     "output_type": "execute_result"
    },
    {
     "data": {
      "image/png": "[encoded data removed]",
      "text/plain": [
       "<Figure size 640x480 with 1 Axes>"
      ]
     },
     "metadata": {},
     "output_type": "display_data"
    }
   ],
   "source": [
    "sns.boxplot(x = df['Heart_Disease'], y = df['General_Health'])"
   ]
  },
  {
   "cell_type": "code",
   "execution_count": 32,
   "id": "68a9b3d1",
   "metadata": {},
   "outputs": [
    {
     "data": {
      "text/html": [
       "<div>\n",
       "<style scoped>\n",
       "    .dataframe tbody tr th:only-of-type {\n",
       "        vertical-align: middle;\n",
       "    }\n",
       "\n",
       "    .dataframe tbody tr th {\n",
       "        vertical-align: top;\n",
       "    }\n",
       "\n",
       "    .dataframe thead th {\n",
       "        text-align: right;\n",
       "    }\n",
       "</style>\n",
       "<table border=\"1\" class=\"dataframe\">\n",
       "  <thead>\n",
       "    <tr style=\"text-align: right;\">\n",
       "      <th></th>\n",
       "      <th>count</th>\n",
       "      <th>mean</th>\n",
       "      <th>std</th>\n",
       "      <th>min</th>\n",
       "      <th>25%</th>\n",
       "      <th>50%</th>\n",
       "      <th>75%</th>\n",
       "      <th>max</th>\n",
       "    </tr>\n",
       "    <tr>\n",
       "      <th>Heart_Disease</th>\n",
       "      <th></th>\n",
       "      <th></th>\n",
       "      <th></th>\n",
       "      <th></th>\n",
       "      <th></th>\n",
       "      <th></th>\n",
       "      <th></th>\n",
       "      <th></th>\n",
       "    </tr>\n",
       "  </thead>\n",
       "  <tbody>\n",
       "    <tr>\n",
       "      <th>0</th>\n",
       "      <td>283883.0</td>\n",
       "      <td>0.402712</td>\n",
       "      <td>0.832800</td>\n",
       "      <td>0.0</td>\n",
       "      <td>0.0</td>\n",
       "      <td>0.0</td>\n",
       "      <td>0.0</td>\n",
       "      <td>4.0</td>\n",
       "    </tr>\n",
       "    <tr>\n",
       "      <th>1</th>\n",
       "      <td>24971.0</td>\n",
       "      <td>0.146770</td>\n",
       "      <td>0.522505</td>\n",
       "      <td>0.0</td>\n",
       "      <td>0.0</td>\n",
       "      <td>0.0</td>\n",
       "      <td>0.0</td>\n",
       "      <td>4.0</td>\n",
       "    </tr>\n",
       "  </tbody>\n",
       "</table>\n",
       "</div>"
      ],
      "text/plain": [
       "                  count      mean       std  min  25%  50%  75%  max\n",
       "Heart_Disease                                                       \n",
       "0              283883.0  0.402712  0.832800  0.0  0.0  0.0  0.0  4.0\n",
       "1               24971.0  0.146770  0.522505  0.0  0.0  0.0  0.0  4.0"
      ]
     },
     "execution_count": 32,
     "metadata": {},
     "output_type": "execute_result"
    }
   ],
   "source": [
    "df.groupby(by = 'Heart_Disease').describe()['Checkup']"
   ]
  },
  {
   "cell_type": "code",
   "execution_count": 33,
   "id": "5b67d193",
   "metadata": {},
   "outputs": [
    {
     "data": {
      "text/plain": [
       "(0.1467702534940531, 0.40271168051626904)"
      ]
     },
     "execution_count": 33,
     "metadata": {},
     "output_type": "execute_result"
    }
   ],
   "source": [
    "df[df['Heart_Disease'] == 1]['Checkup'].mean(), df[df['Heart_Disease'] == 0]['Checkup'].mean()\n",
    "\n",
    "\n",
    "###pessoas com doenças no coração tendem a fazer check_up com maior frequência."
   ]
  },
  {
   "cell_type": "code",
   "execution_count": 34,
   "id": "a7ff9fcc",
   "metadata": {},
   "outputs": [
    {
     "data": {
      "text/plain": [
       "0.08085049894124732"
      ]
     },
     "execution_count": 34,
     "metadata": {},
     "output_type": "execute_result"
    }
   ],
   "source": [
    "df['Heart_Disease'].mean()"
   ]
  },
  {
   "cell_type": "code",
   "execution_count": 35,
   "id": "3f86ff0a",
   "metadata": {},
   "outputs": [
    {
     "data": {
      "text/plain": [
       "<Axes: xlabel='Checkup', ylabel='Heart_Disease'>"
      ]
     },
     "execution_count": 35,
     "metadata": {},
     "output_type": "execute_result"
    },
    {
     "data": {
      "image/png": "[encoded data removed]",
      "text/plain": [
       "<Figure size 640x480 with 1 Axes>"
      ]
     },
     "metadata": {},
     "output_type": "display_data"
    }
   ],
   "source": [
    "sns.barplot(x = df['Checkup'], y = df['Heart_Disease'])\n",
    "###pessoas com doenças no coração tendem a fazer check_up com maior frequência."
   ]
  },
  {
   "cell_type": "code",
   "execution_count": 36,
   "id": "29903306",
   "metadata": {},
   "outputs": [
    {
     "data": {
      "text/plain": [
       "<Axes: xlabel='Heart_Disease', ylabel='Checkup'>"
      ]
     },
     "execution_count": 36,
     "metadata": {},
     "output_type": "execute_result"
    },
    {
     "data": {
      "image/png": "[encoded data removed]",
      "text/plain": [
       "<Figure size 640x480 with 1 Axes>"
      ]
     },
     "metadata": {},
     "output_type": "display_data"
    }
   ],
   "source": [
    "sns.barplot(y = df['Checkup'], x = df['Heart_Disease'])##maior frequencia pessoas com problema no coração**"
   ]
  },
  {
   "cell_type": "code",
   "execution_count": 37,
   "id": "807f6508",
   "metadata": {},
   "outputs": [
    {
     "data": {
      "text/plain": [
       "0.5146526521569734"
      ]
     },
     "execution_count": 37,
     "metadata": {},
     "output_type": "execute_result"
    }
   ],
   "source": [
    "df[df['Exercise'] == 1]['Heart_Disease'].mean(), df[df['Exercise'] == 0]['Heart_Disease'].mean() ##pessoas que fazem exercicio\n",
    "##tem metade da chance de doenças no coração\n",
    "df[df['Exercise'] == 1]['Heart_Disease'].mean()/ df[df['Exercise'] == 0]['Heart_Disease'].mean()\n",
    "\n",
    "#0.5146526521569734 de chance a menos**"
   ]
  },
  {
   "cell_type": "code",
   "execution_count": 38,
   "id": "ffdf0c42",
   "metadata": {},
   "outputs": [
    {
     "data": {
      "text/plain": [
       "<Axes: xlabel='Exercise', ylabel='Heart_Disease'>"
      ]
     },
     "execution_count": 38,
     "metadata": {},
     "output_type": "execute_result"
    },
    {
     "data": {
      "image/png": "[encoded data removed]",
      "text/plain": [
       "<Figure size 640x480 with 1 Axes>"
      ]
     },
     "metadata": {},
     "output_type": "display_data"
    }
   ],
   "source": [
    "sns.barplot(y = df['Heart_Disease'], x = df['Exercise'])"
   ]
  },
  {
   "cell_type": "code",
   "execution_count": 39,
   "id": "383fadc1",
   "metadata": {},
   "outputs": [
    {
     "data": {
      "text/html": [
       "<div>\n",
       "<style scoped>\n",
       "    .dataframe tbody tr th:only-of-type {\n",
       "        vertical-align: middle;\n",
       "    }\n",
       "\n",
       "    .dataframe tbody tr th {\n",
       "        vertical-align: top;\n",
       "    }\n",
       "\n",
       "    .dataframe thead th {\n",
       "        text-align: right;\n",
       "    }\n",
       "</style>\n",
       "<table border=\"1\" class=\"dataframe\">\n",
       "  <thead>\n",
       "    <tr style=\"text-align: right;\">\n",
       "      <th></th>\n",
       "      <th>count</th>\n",
       "      <th>mean</th>\n",
       "      <th>std</th>\n",
       "      <th>min</th>\n",
       "      <th>25%</th>\n",
       "      <th>50%</th>\n",
       "      <th>75%</th>\n",
       "      <th>max</th>\n",
       "    </tr>\n",
       "    <tr>\n",
       "      <th>Exercise</th>\n",
       "      <th></th>\n",
       "      <th></th>\n",
       "      <th></th>\n",
       "      <th></th>\n",
       "      <th></th>\n",
       "      <th></th>\n",
       "      <th></th>\n",
       "      <th></th>\n",
       "    </tr>\n",
       "  </thead>\n",
       "  <tbody>\n",
       "    <tr>\n",
       "      <th>0</th>\n",
       "      <td>69473.0</td>\n",
       "      <td>0.129604</td>\n",
       "      <td>0.335870</td>\n",
       "      <td>0.0</td>\n",
       "      <td>0.0</td>\n",
       "      <td>0.0</td>\n",
       "      <td>0.0</td>\n",
       "      <td>1.0</td>\n",
       "    </tr>\n",
       "    <tr>\n",
       "      <th>1</th>\n",
       "      <td>239381.0</td>\n",
       "      <td>0.066701</td>\n",
       "      <td>0.249504</td>\n",
       "      <td>0.0</td>\n",
       "      <td>0.0</td>\n",
       "      <td>0.0</td>\n",
       "      <td>0.0</td>\n",
       "      <td>1.0</td>\n",
       "    </tr>\n",
       "  </tbody>\n",
       "</table>\n",
       "</div>"
      ],
      "text/plain": [
       "             count      mean       std  min  25%  50%  75%  max\n",
       "Exercise                                                       \n",
       "0          69473.0  0.129604  0.335870  0.0  0.0  0.0  0.0  1.0\n",
       "1         239381.0  0.066701  0.249504  0.0  0.0  0.0  0.0  1.0"
      ]
     },
     "execution_count": 39,
     "metadata": {},
     "output_type": "execute_result"
    }
   ],
   "source": [
    "df.groupby(by = 'Exercise' ).describe()['Heart_Disease']"
   ]
  },
  {
   "cell_type": "code",
   "execution_count": 40,
   "id": "228f0e06",
   "metadata": {},
   "outputs": [
    {
     "data": {
      "text/plain": [
       "2.1499844238525405"
      ]
     },
     "execution_count": 40,
     "metadata": {},
     "output_type": "execute_result"
    }
   ],
   "source": [
    "df[df['Skin_Cancer'] == 1]['Heart_Disease'].mean(), df[df['Skin_Cancer'] == 0]['Heart_Disease'].mean() ##\n",
    "##skin cancer has ~ 2.14 times more chance to has heart_disease\n",
    "df[df['Skin_Cancer'] == 1]['Heart_Disease'].mean()/ df[df['Skin_Cancer'] == 0]['Heart_Disease'].mean()"
   ]
  },
  {
   "cell_type": "code",
   "execution_count": 41,
   "id": "e7978694",
   "metadata": {},
   "outputs": [
    {
     "data": {
      "text/plain": [
       "<Axes: xlabel='Skin_Cancer', ylabel='Heart_Disease'>"
      ]
     },
     "execution_count": 41,
     "metadata": {},
     "output_type": "execute_result"
    },
    {
     "data": {
      "image/png": "[encoded data removed]",
      "text/plain": [
       "<Figure size 640x480 with 1 Axes>"
      ]
     },
     "metadata": {},
     "output_type": "display_data"
    }
   ],
   "source": [
    "sns.barplot(y = df['Heart_Disease'], x = df['Skin_Cancer'])"
   ]
  },
  {
   "cell_type": "code",
   "execution_count": 42,
   "id": "792cb4e3",
   "metadata": {},
   "outputs": [
    {
     "data": {
      "text/plain": [
       "2.173418346774513"
      ]
     },
     "execution_count": 42,
     "metadata": {},
     "output_type": "execute_result"
    }
   ],
   "source": [
    "df[df['Other_Cancer'] == 1]['Heart_Disease'].mean(), df[df['Other_Cancer'] == 0]['Heart_Disease'].mean() ##\n",
    "##Other_Cancer  has ~ 2.17 times more chance to has heart_disease\n",
    "df[df['Other_Cancer'] == 1]['Heart_Disease'].mean()/ df[df['Other_Cancer'] == 0]['Heart_Disease'].mean()"
   ]
  },
  {
   "cell_type": "code",
   "execution_count": null,
   "id": "f71c15f5",
   "metadata": {},
   "outputs": [],
   "source": [
    "sns.barplot(y = df['Heart_Disease'], x = df['Other_Cancer'])"
   ]
  },
  {
   "cell_type": "code",
   "execution_count": null,
   "id": "06a23a1f",
   "metadata": {},
   "outputs": [],
   "source": [
    "df[df['Other_Cancer'] == 1]['Heart_Disease'].mean(), df[df['Other_Cancer'] == 0]['Heart_Disease'].mean() ##\n",
    "##Other_Cancer  has ~ 2.17 times more chance to has heart_disease\n",
    "df[df['Other_Cancer'] == 1]['Heart_Disease'].mean()/ df[df['Other_Cancer'] == 0]['Heart_Disease'].mean()"
   ]
  },
  {
   "cell_type": "code",
   "execution_count": null,
   "id": "d4ee30f7",
   "metadata": {},
   "outputs": [],
   "source": [
    "def ratioheartdisease(df,column):\n",
    "    ratio = df[df[column] == 1]['Heart_Disease'].mean()/ df[df[column] == 0]['Heart_Disease'].mean()\n",
    "    sns.barplot(y = df['Heart_Disease'], x = df[column])\n",
    "    print(f'ratio heart disease ~ {round(ratio, 3)} if {column} is True')"
   ]
  },
  {
   "cell_type": "code",
   "execution_count": null,
   "id": "10a8d178",
   "metadata": {},
   "outputs": [],
   "source": [
    "ratioheartdisease(df,column = 'Depression')"
   ]
  },
  {
   "cell_type": "code",
   "execution_count": null,
   "id": "2035bc25",
   "metadata": {},
   "outputs": [],
   "source": [
    "ratioheartdisease(df,column = 'Arthritis')"
   ]
  },
  {
   "cell_type": "code",
   "execution_count": null,
   "id": "80a318e1",
   "metadata": {},
   "outputs": [],
   "source": []
  },
  {
   "cell_type": "code",
   "execution_count": null,
   "id": "d6e3c195",
   "metadata": {},
   "outputs": [],
   "source": [
    "sns.barplot(y = df['Heart_Disease'], x = df['Age_Category']) ##proporção Heart disease**"
   ]
  },
  {
   "cell_type": "code",
   "execution_count": null,
   "id": "9a4a0010",
   "metadata": {},
   "outputs": [],
   "source": [
    "sns.barplot(y = df['Heart_Disease'], x = df['Age_Category'], hue = df['Exercise'])\n",
    "##se fizer exercicio você consegue retardar doenças cardiacas***"
   ]
  },
  {
   "cell_type": "code",
   "execution_count": null,
   "id": "4644de2b",
   "metadata": {},
   "outputs": [],
   "source": [
    "df.groupby(by = 'Heart_Disease').describe()['Height_(cm)'] ##nao parece ter muita interferencia na altura"
   ]
  },
  {
   "cell_type": "code",
   "execution_count": null,
   "id": "99730415",
   "metadata": {},
   "outputs": [],
   "source": [
    "sns.violinplot(x = df['Heart_Disease'], y = df['Height_(cm)'])"
   ]
  },
  {
   "cell_type": "code",
   "execution_count": null,
   "id": "a90a5a7c",
   "metadata": {},
   "outputs": [],
   "source": [
    "df.groupby(by = 'Heart_Disease').describe()['Weight_(kg)']### a media de peso de pessoas com doenças no coração é maior**"
   ]
  },
  {
   "cell_type": "code",
   "execution_count": null,
   "id": "b323cdab",
   "metadata": {},
   "outputs": [],
   "source": [
    "sns.violinplot(x = df['Heart_Disease'], y = df['Weight_(kg)'])"
   ]
  },
  {
   "cell_type": "code",
   "execution_count": null,
   "id": "c76ffccb",
   "metadata": {},
   "outputs": [],
   "source": [
    "df.groupby(by = 'Heart_Disease').describe()['BMI']  #media de BMI de pessoas com doenças no coração é maior**"
   ]
  },
  {
   "cell_type": "code",
   "execution_count": null,
   "id": "45c062cb",
   "metadata": {},
   "outputs": [],
   "source": [
    "sns.violinplot(x = df['Heart_Disease'], y = df['BMI'])"
   ]
  },
  {
   "cell_type": "code",
   "execution_count": null,
   "id": "01751eee",
   "metadata": {},
   "outputs": [],
   "source": [
    "ratioheartdisease(df, 'Smoking_History')"
   ]
  },
  {
   "cell_type": "code",
   "execution_count": null,
   "id": "171c9332",
   "metadata": {},
   "outputs": [],
   "source": [
    "df.groupby(by = 'Heart_Disease').describe()['Alcohol_Consumption'] "
   ]
  },
  {
   "cell_type": "code",
   "execution_count": null,
   "id": "d452d4e7",
   "metadata": {},
   "outputs": [],
   "source": [
    "sns.violinplot(x = df['Heart_Disease'], y = df['Alcohol_Consumption'])###pessoas com doenças de coração estão bebendo menos"
   ]
  },
  {
   "cell_type": "code",
   "execution_count": null,
   "id": "a31ae8a0",
   "metadata": {},
   "outputs": [],
   "source": [
    "sns.violinplot(x = df['Heart_Disease'], y = df['Alcohol_Consumption']) ###pessoas com doenças de coração estão bebendo menos"
   ]
  },
  {
   "cell_type": "code",
   "execution_count": null,
   "id": "3c0fa378",
   "metadata": {},
   "outputs": [],
   "source": [
    "sns.boxplot(x = df['Heart_Disease'], y = df['Fruit_Consumption']) ## quem consome + fruta tem em média menos doença do coração"
   ]
  },
  {
   "cell_type": "code",
   "execution_count": null,
   "id": "d88ac996",
   "metadata": {},
   "outputs": [],
   "source": [
    "sns.boxplot(x = df['Age_Category'], y = df['Fruit_Consumption'])"
   ]
  },
  {
   "cell_type": "code",
   "execution_count": null,
   "id": "d90d5a3b",
   "metadata": {},
   "outputs": [],
   "source": [
    "sns.boxplot(x = df['Heart_Disease'], y = df['Green_Vegetables_Consumption']) ## quem consome + Green_Vegetables_Consumption tem em média menos doença do coração"
   ]
  },
  {
   "cell_type": "code",
   "execution_count": null,
   "id": "dbcd9124",
   "metadata": {},
   "outputs": [],
   "source": [
    "sns.boxplot(x = df['Age_Category'], y = df['FriedPotato_Consumption'])##consumo de batatas fritas é maior entre os mais jovens**"
   ]
  },
  {
   "cell_type": "code",
   "execution_count": null,
   "id": "a1d38713",
   "metadata": {},
   "outputs": [],
   "source": [
    "sns.boxplot(x = df['Age_Category'], y = df['Green_Vegetables_Consumption'], hue=df['Heart_Disease'])##jovens que comem muita batata frita \n",
    "##tem maioir chance de ter doenças no coração 2-3"
   ]
  },
  {
   "cell_type": "code",
   "execution_count": null,
   "id": "b4027899",
   "metadata": {},
   "outputs": [],
   "source": [
    "df.groupby(by = 'Heart_Disease').describe()['IsMale'] "
   ]
  },
  {
   "cell_type": "code",
   "execution_count": null,
   "id": "7a0b5e63",
   "metadata": {},
   "outputs": [],
   "source": [
    "ratioheartdisease(df, 'IsMale') ##homens tem 1.64 mais chance de ter doenças no coração"
   ]
  },
  {
   "cell_type": "code",
   "execution_count": null,
   "id": "27093cc6",
   "metadata": {},
   "outputs": [],
   "source": [
    "df.groupby(by = 'Heart_Disease').describe()['IsMale']  ##men has more probability of have heart_disease"
   ]
  },
  {
   "cell_type": "code",
   "execution_count": null,
   "id": "033d25fb",
   "metadata": {},
   "outputs": [],
   "source": [
    "ratioheartdisease(df, column = 'Diabetes__Yes') ##diabetes aumenta em 3.3x a chance de doenças no coração**"
   ]
  },
  {
   "cell_type": "code",
   "execution_count": null,
   "id": "f774922d",
   "metadata": {},
   "outputs": [],
   "source": [
    "ratioheartdisease(df, column = 'Diabetes__Yes, but female told only during pregnancy') "
   ]
  },
  {
   "cell_type": "code",
   "execution_count": null,
   "id": "db1b2cf5",
   "metadata": {},
   "outputs": [],
   "source": [
    "ratioheartdisease(df, column = 'Diabetes__No') "
   ]
  },
  {
   "cell_type": "code",
   "execution_count": null,
   "id": "43a23326",
   "metadata": {},
   "outputs": [],
   "source": [
    "ratioheartdisease(df, column = 'Diabetes__No, pre-diabetes or borderline diabetes') ##pre diabetes aumenta em 1.43x"
   ]
  },
  {
   "cell_type": "code",
   "execution_count": null,
   "id": "261edd0f",
   "metadata": {},
   "outputs": [],
   "source": [
    "df['Heart_Disease'].mean()"
   ]
  },
  {
   "cell_type": "code",
   "execution_count": null,
   "id": "27079fda",
   "metadata": {},
   "outputs": [],
   "source": [
    "sns.barplot(y = df['Diabetes__Yes'], x = df['Age_Category'], hue = df['Heart_Disease'])###pessoas com diabetes tem alta chance\n",
    "#de ter problemas no coração*** quando depois do 55 anos chega a quase 35% de chance"
   ]
  },
  {
   "cell_type": "code",
   "execution_count": null,
   "id": "d224b015",
   "metadata": {},
   "outputs": [],
   "source": [
    "df.groupby(by = ['Heart_Disease', 'Age_Category']).describe()['Diabetes__Yes']['mean']"
   ]
  },
  {
   "cell_type": "code",
   "execution_count": null,
   "id": "a28111d2",
   "metadata": {},
   "outputs": [],
   "source": [
    "y = df['Heart_Disease']\n",
    "X = df.drop(columns='Heart_Disease')"
   ]
  },
  {
   "cell_type": "code",
   "execution_count": null,
   "id": "92c0f391",
   "metadata": {},
   "outputs": [],
   "source": [
    "y"
   ]
  },
  {
   "cell_type": "code",
   "execution_count": null,
   "id": "1e52fa45",
   "metadata": {},
   "outputs": [],
   "source": []
  },
  {
   "cell_type": "code",
   "execution_count": null,
   "id": "a1992af1",
   "metadata": {},
   "outputs": [],
   "source": [
    "from sklearn.model_selection import train_test_split\n",
    "X_train, X_test, y_train, y_test = train_test_split(X, y, test_size=0.2, random_state=101)"
   ]
  },
  {
   "cell_type": "code",
   "execution_count": null,
   "id": "31d18d64",
   "metadata": {},
   "outputs": [],
   "source": [
    "from xgboost import XGBClassifier"
   ]
  },
  {
   "cell_type": "code",
   "execution_count": null,
   "id": "c6d1a0a1",
   "metadata": {},
   "outputs": [],
   "source": [
    "model = XGBClassifier(objective='binary:logistic', scale_pos_weight=sum(y_train==0)/sum(y_train==1),)"
   ]
  },
  {
   "cell_type": "code",
   "execution_count": null,
   "id": "77bffb7c",
   "metadata": {},
   "outputs": [],
   "source": [
    "model.fit(X = X_train,y =  y_train)"
   ]
  },
  {
   "cell_type": "code",
   "execution_count": null,
   "id": "6f63c79a",
   "metadata": {},
   "outputs": [],
   "source": [
    "predict = model.predict(X = X_test)"
   ]
  },
  {
   "cell_type": "code",
   "execution_count": null,
   "id": "6f1bdfc0",
   "metadata": {},
   "outputs": [],
   "source": [
    "from sklearn.metrics import classification_report"
   ]
  },
  {
   "cell_type": "code",
   "execution_count": null,
   "id": "eb0a3c19",
   "metadata": {},
   "outputs": [],
   "source": [
    "print(classification_report(y_test, predict))"
   ]
  },
  {
   "cell_type": "code",
   "execution_count": null,
   "id": "2641410e",
   "metadata": {},
   "outputs": [],
   "source": [
    "from sklearn.metrics import confusion_matrix, ConfusionMatrixDisplay, roc_curve, auc"
   ]
  },
  {
   "cell_type": "code",
   "execution_count": null,
   "id": "cd219872",
   "metadata": {},
   "outputs": [],
   "source": [
    "cm = confusion_matrix(y_test, predict, labels=model.classes_)\n",
    "disp = ConfusionMatrixDisplay(confusion_matrix=cm, display_labels=model.classes_)\n",
    "disp.plot()"
   ]
  },
  {
   "cell_type": "markdown",
   "id": "cce5492f",
   "metadata": {},
   "source": [
    "#True negatives (TN): 41861 - The model correctly predicted class 0.\n",
    "\n",
    "False positives (FP): 14912 - The model incorrectly predicted class 1\n",
    "\n",
    "False negatives (FN): 1116 - The model incorrectly predicted class 0 .\n",
    "\n",
    "True positives (TP): 3882 - The model correctly predicted class 1."
   ]
  },
  {
   "cell_type": "code",
   "execution_count": null,
   "id": "c7635038",
   "metadata": {},
   "outputs": [],
   "source": [
    "fpr_optimized, tpr_optimized, _ = roc_curve(y_test, predict)\n",
    "roc_auc_optimized = auc(fpr_optimized, tpr_optimized)\n",
    "\n",
    "# Plot ROC curve\n",
    "plt.figure()\n",
    "plt.plot(fpr_optimized, tpr_optimized, color='darkorange', lw=2, label='ROC curve (area = %0.2f)' % roc_auc_optimized)\n",
    "plt.plot([0, 1], [0, 1], color='navy', lw=2, linestyle='--')\n",
    "plt.xlim([0.0, 1.0])\n",
    "plt.ylim([0.0, 1.05])\n",
    "plt.xlabel('False Positive Rate')\n",
    "plt.ylabel('True Positive Rate')\n",
    "plt.title('Receiver Operating Characteristic')\n",
    "plt.legend(loc=\"lower right\")\n",
    "plt.show()"
   ]
  },
  {
   "cell_type": "code",
   "execution_count": null,
   "id": "eb37cb2b",
   "metadata": {},
   "outputs": [],
   "source": []
  }
 ],
 "metadata": {
  "kernelspec": {
   "display_name": "Python 3 (ipykernel)",
   "language": "python",
   "name": "python3"
  },
  "language_info": {
   "codemirror_mode": {
    "name": "ipython",
    "version": 3
   },
   "file_extension": ".py",
   "mimetype": "text/x-python",
   "name": "python",
   "nbconvert_exporter": "python",
   "pygments_lexer": "ipython3",
   "version": "3.10.9"
  }
 },
 "nbformat": 4,
 "nbformat_minor": 5
}
