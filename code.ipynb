{
 "cells": [
  {
   "cell_type": "code",
   "execution_count": 2,
   "id": "cc7801a0",
   "metadata": {},
   "outputs": [],
   "source": [
    "import numpy as np\n",
    "import pandas as pd\n",
    "import matplotlib.pyplot as plt\n",
    "import seaborn as sns"
   ]
  },
  {
   "cell_type": "code",
   "execution_count": 7,
   "id": "31358494",
   "metadata": {},
   "outputs": [],
   "source": [
    "df = pd.read_csv(\"archive/CVD_cleaned.csv\")"
   ]
  },
  {
   "cell_type": "code",
   "execution_count": 8,
   "id": "be571a04",
   "metadata": {},
   "outputs": [
    {
     "data": {
      "text/html": [
       "<div>\n",
       "<style scoped>\n",
       "    .dataframe tbody tr th:only-of-type {\n",
       "        vertical-align: middle;\n",
       "    }\n",
       "\n",
       "    .dataframe tbody tr th {\n",
       "        vertical-align: top;\n",
       "    }\n",
       "\n",
       "    .dataframe thead th {\n",
       "        text-align: right;\n",
       "    }\n",
       "</style>\n",
       "<table border=\"1\" class=\"dataframe\">\n",
       "  <thead>\n",
       "    <tr style=\"text-align: right;\">\n",
       "      <th></th>\n",
       "      <th>General_Health</th>\n",
       "      <th>Checkup</th>\n",
       "      <th>Exercise</th>\n",
       "      <th>Heart_Disease</th>\n",
       "      <th>Skin_Cancer</th>\n",
       "      <th>Other_Cancer</th>\n",
       "      <th>Depression</th>\n",
       "      <th>Diabetes</th>\n",
       "      <th>Arthritis</th>\n",
       "      <th>Sex</th>\n",
       "      <th>Age_Category</th>\n",
       "      <th>Height_(cm)</th>\n",
       "      <th>Weight_(kg)</th>\n",
       "      <th>BMI</th>\n",
       "      <th>Smoking_History</th>\n",
       "      <th>Alcohol_Consumption</th>\n",
       "      <th>Fruit_Consumption</th>\n",
       "      <th>Green_Vegetables_Consumption</th>\n",
       "      <th>FriedPotato_Consumption</th>\n",
       "    </tr>\n",
       "  </thead>\n",
       "  <tbody>\n",
       "    <tr>\n",
       "      <th>0</th>\n",
       "      <td>Poor</td>\n",
       "      <td>Within the past 2 years</td>\n",
       "      <td>No</td>\n",
       "      <td>No</td>\n",
       "      <td>No</td>\n",
       "      <td>No</td>\n",
       "      <td>No</td>\n",
       "      <td>No</td>\n",
       "      <td>Yes</td>\n",
       "      <td>Female</td>\n",
       "      <td>70-74</td>\n",
       "      <td>150.0</td>\n",
       "      <td>32.66</td>\n",
       "      <td>14.54</td>\n",
       "      <td>Yes</td>\n",
       "      <td>0.0</td>\n",
       "      <td>30.0</td>\n",
       "      <td>16.0</td>\n",
       "      <td>12.0</td>\n",
       "    </tr>\n",
       "    <tr>\n",
       "      <th>1</th>\n",
       "      <td>Very Good</td>\n",
       "      <td>Within the past year</td>\n",
       "      <td>No</td>\n",
       "      <td>Yes</td>\n",
       "      <td>No</td>\n",
       "      <td>No</td>\n",
       "      <td>No</td>\n",
       "      <td>Yes</td>\n",
       "      <td>No</td>\n",
       "      <td>Female</td>\n",
       "      <td>70-74</td>\n",
       "      <td>165.0</td>\n",
       "      <td>77.11</td>\n",
       "      <td>28.29</td>\n",
       "      <td>No</td>\n",
       "      <td>0.0</td>\n",
       "      <td>30.0</td>\n",
       "      <td>0.0</td>\n",
       "      <td>4.0</td>\n",
       "    </tr>\n",
       "    <tr>\n",
       "      <th>2</th>\n",
       "      <td>Very Good</td>\n",
       "      <td>Within the past year</td>\n",
       "      <td>Yes</td>\n",
       "      <td>No</td>\n",
       "      <td>No</td>\n",
       "      <td>No</td>\n",
       "      <td>No</td>\n",
       "      <td>Yes</td>\n",
       "      <td>No</td>\n",
       "      <td>Female</td>\n",
       "      <td>60-64</td>\n",
       "      <td>163.0</td>\n",
       "      <td>88.45</td>\n",
       "      <td>33.47</td>\n",
       "      <td>No</td>\n",
       "      <td>4.0</td>\n",
       "      <td>12.0</td>\n",
       "      <td>3.0</td>\n",
       "      <td>16.0</td>\n",
       "    </tr>\n",
       "    <tr>\n",
       "      <th>3</th>\n",
       "      <td>Poor</td>\n",
       "      <td>Within the past year</td>\n",
       "      <td>Yes</td>\n",
       "      <td>Yes</td>\n",
       "      <td>No</td>\n",
       "      <td>No</td>\n",
       "      <td>No</td>\n",
       "      <td>Yes</td>\n",
       "      <td>No</td>\n",
       "      <td>Male</td>\n",
       "      <td>75-79</td>\n",
       "      <td>180.0</td>\n",
       "      <td>93.44</td>\n",
       "      <td>28.73</td>\n",
       "      <td>No</td>\n",
       "      <td>0.0</td>\n",
       "      <td>30.0</td>\n",
       "      <td>30.0</td>\n",
       "      <td>8.0</td>\n",
       "    </tr>\n",
       "    <tr>\n",
       "      <th>4</th>\n",
       "      <td>Good</td>\n",
       "      <td>Within the past year</td>\n",
       "      <td>No</td>\n",
       "      <td>No</td>\n",
       "      <td>No</td>\n",
       "      <td>No</td>\n",
       "      <td>No</td>\n",
       "      <td>No</td>\n",
       "      <td>No</td>\n",
       "      <td>Male</td>\n",
       "      <td>80+</td>\n",
       "      <td>191.0</td>\n",
       "      <td>88.45</td>\n",
       "      <td>24.37</td>\n",
       "      <td>Yes</td>\n",
       "      <td>0.0</td>\n",
       "      <td>8.0</td>\n",
       "      <td>4.0</td>\n",
       "      <td>0.0</td>\n",
       "    </tr>\n",
       "  </tbody>\n",
       "</table>\n",
       "</div>"
      ],
      "text/plain": [
       "  General_Health                  Checkup Exercise Heart_Disease Skin_Cancer  \\\n",
       "0           Poor  Within the past 2 years       No            No          No   \n",
       "1      Very Good     Within the past year       No           Yes          No   \n",
       "2      Very Good     Within the past year      Yes            No          No   \n",
       "3           Poor     Within the past year      Yes           Yes          No   \n",
       "4           Good     Within the past year       No            No          No   \n",
       "\n",
       "  Other_Cancer Depression Diabetes Arthritis     Sex Age_Category  \\\n",
       "0           No         No       No       Yes  Female        70-74   \n",
       "1           No         No      Yes        No  Female        70-74   \n",
       "2           No         No      Yes        No  Female        60-64   \n",
       "3           No         No      Yes        No    Male        75-79   \n",
       "4           No         No       No        No    Male          80+   \n",
       "\n",
       "   Height_(cm)  Weight_(kg)    BMI Smoking_History  Alcohol_Consumption  \\\n",
       "0        150.0        32.66  14.54             Yes                  0.0   \n",
       "1        165.0        77.11  28.29              No                  0.0   \n",
       "2        163.0        88.45  33.47              No                  4.0   \n",
       "3        180.0        93.44  28.73              No                  0.0   \n",
       "4        191.0        88.45  24.37             Yes                  0.0   \n",
       "\n",
       "   Fruit_Consumption  Green_Vegetables_Consumption  FriedPotato_Consumption  \n",
       "0               30.0                          16.0                     12.0  \n",
       "1               30.0                           0.0                      4.0  \n",
       "2               12.0                           3.0                     16.0  \n",
       "3               30.0                          30.0                      8.0  \n",
       "4                8.0                           4.0                      0.0  "
      ]
     },
     "execution_count": 8,
     "metadata": {},
     "output_type": "execute_result"
    }
   ],
   "source": [
    "df.head(5)"
   ]
  },
  {
   "cell_type": "code",
   "execution_count": 11,
   "id": "aaf0f85e",
   "metadata": {},
   "outputs": [
    {
     "data": {
      "text/plain": [
       "General_Health                  False\n",
       "Checkup                         False\n",
       "Exercise                        False\n",
       "Heart_Disease                   False\n",
       "Skin_Cancer                     False\n",
       "Other_Cancer                    False\n",
       "Depression                      False\n",
       "Diabetes                        False\n",
       "Arthritis                       False\n",
       "Sex                             False\n",
       "Age_Category                    False\n",
       "Height_(cm)                     False\n",
       "Weight_(kg)                     False\n",
       "BMI                             False\n",
       "Smoking_History                 False\n",
       "Alcohol_Consumption             False\n",
       "Fruit_Consumption               False\n",
       "Green_Vegetables_Consumption    False\n",
       "FriedPotato_Consumption         False\n",
       "dtype: bool"
      ]
     },
     "execution_count": 11,
     "metadata": {},
     "output_type": "execute_result"
    }
   ],
   "source": [
    "df.isnull().sum() > 0"
   ]
  },
  {
   "cell_type": "code",
   "execution_count": 12,
   "id": "bd1f2f82",
   "metadata": {},
   "outputs": [],
   "source": [
    "##transformar em numérico"
   ]
  },
  {
   "cell_type": "code",
   "execution_count": 15,
   "id": "ae28367e",
   "metadata": {},
   "outputs": [
    {
     "data": {
      "text/plain": [
       "array(['Poor', 'Very Good', 'Good', 'Fair', 'Excellent'], dtype=object)"
      ]
     },
     "execution_count": 15,
     "metadata": {},
     "output_type": "execute_result"
    }
   ],
   "source": [
    "df['General_Health'].unique()"
   ]
  },
  {
   "cell_type": "markdown",
   "id": "010e7ff5",
   "metadata": {},
   "source": [
    "'Poor', 'Very Good', 'Good', 'Fair', 'Excellent' == variable ordinal "
   ]
  },
  {
   "cell_type": "code",
   "execution_count": 30,
   "id": "7227da7b",
   "metadata": {},
   "outputs": [
    {
     "data": {
      "text/plain": [
       "{'Yes': 1, 'No': 0}"
      ]
     },
     "execution_count": 30,
     "metadata": {},
     "output_type": "execute_result"
    }
   ],
   "source": [
    "yesmap = {'Yes' : 1, 'No' : 0}\n",
    "yesmap"
   ]
  },
  {
   "cell_type": "code",
   "execution_count": 31,
   "id": "3796c9d2",
   "metadata": {},
   "outputs": [
    {
     "data": {
      "text/plain": [
       "0         0\n",
       "1         0\n",
       "2         1\n",
       "3         1\n",
       "4         0\n",
       "         ..\n",
       "308849    1\n",
       "308850    1\n",
       "308851    1\n",
       "308852    1\n",
       "308853    1\n",
       "Name: ExerciseBin, Length: 308854, dtype: int64"
      ]
     },
     "execution_count": 31,
     "metadata": {},
     "output_type": "execute_result"
    }
   ],
   "source": [
    "df['ExerciseBin'] = df['Exercise'].map(yesmap)\n",
    "df['ExerciseBin']"
   ]
  },
  {
   "cell_type": "code",
   "execution_count": 32,
   "id": "16d9c397",
   "metadata": {},
   "outputs": [
    {
     "data": {
      "text/plain": [
       "0         0\n",
       "1         1\n",
       "2         0\n",
       "3         1\n",
       "4         0\n",
       "         ..\n",
       "308849    0\n",
       "308850    0\n",
       "308851    0\n",
       "308852    0\n",
       "308853    0\n",
       "Name: Heart_DiseaseBin, Length: 308854, dtype: int64"
      ]
     },
     "execution_count": 32,
     "metadata": {},
     "output_type": "execute_result"
    }
   ],
   "source": [
    "df['Heart_DiseaseBin'] = df['Heart_Disease'].map(yesmap)\n",
    "df['Heart_DiseaseBin']"
   ]
  },
  {
   "cell_type": "code",
   "execution_count": 33,
   "id": "ebdd4792",
   "metadata": {},
   "outputs": [
    {
     "data": {
      "text/plain": [
       "0         0\n",
       "1         0\n",
       "2         0\n",
       "3         0\n",
       "4         0\n",
       "         ..\n",
       "308849    0\n",
       "308850    0\n",
       "308851    1\n",
       "308852    0\n",
       "308853    0\n",
       "Name: DepressionBin, Length: 308854, dtype: int64"
      ]
     },
     "execution_count": 33,
     "metadata": {},
     "output_type": "execute_result"
    }
   ],
   "source": [
    "df['DepressionBin'] = df['Depression'].map(yesmap)\n",
    "df['DepressionBin']"
   ]
  },
  {
   "cell_type": "code",
   "execution_count": 34,
   "id": "3aaae333",
   "metadata": {},
   "outputs": [
    {
     "data": {
      "text/plain": [
       "0         0.0\n",
       "1         0.0\n",
       "2         4.0\n",
       "3         0.0\n",
       "4         0.0\n",
       "         ... \n",
       "308849    4.0\n",
       "308850    8.0\n",
       "308851    4.0\n",
       "308852    3.0\n",
       "308853    1.0\n",
       "Name: Alcohol_Consumption, Length: 308854, dtype: float64"
      ]
     },
     "execution_count": 34,
     "metadata": {},
     "output_type": "execute_result"
    }
   ],
   "source": [
    "df['Alcohol_Consumption']"
   ]
  },
  {
   "cell_type": "code",
   "execution_count": 36,
   "id": "7c475b4a",
   "metadata": {},
   "outputs": [
    {
     "data": {
      "text/plain": [
       "0         0\n",
       "1         0\n",
       "2         0\n",
       "3         0\n",
       "4         0\n",
       "         ..\n",
       "308849    0\n",
       "308850    0\n",
       "308851    0\n",
       "308852    0\n",
       "308853    0\n",
       "Name: Skin_CancerBin, Length: 308854, dtype: int64"
      ]
     },
     "execution_count": 36,
     "metadata": {},
     "output_type": "execute_result"
    }
   ],
   "source": [
    "df['Skin_CancerBin'] = df['Skin_Cancer'].map(yesmap)\n",
    "df['Skin_CancerBin']"
   ]
  },
  {
   "cell_type": "code",
   "execution_count": 37,
   "id": "255eaf55",
   "metadata": {},
   "outputs": [
    {
     "data": {
      "text/plain": [
       "0         0\n",
       "1         0\n",
       "2         0\n",
       "3         0\n",
       "4         0\n",
       "         ..\n",
       "308849    0\n",
       "308850    0\n",
       "308851    0\n",
       "308852    0\n",
       "308853    0\n",
       "Name: Other_CancerBin, Length: 308854, dtype: int64"
      ]
     },
     "execution_count": 37,
     "metadata": {},
     "output_type": "execute_result"
    }
   ],
   "source": [
    "df['Other_CancerBin'] = df['Other_Cancer'].map(yesmap)\n",
    "df['Other_CancerBin']"
   ]
  },
  {
   "cell_type": "code",
   "execution_count": 40,
   "id": "993d7646",
   "metadata": {},
   "outputs": [
    {
     "data": {
      "text/plain": [
       "0         0.0\n",
       "1         1.0\n",
       "2         1.0\n",
       "3         1.0\n",
       "4         0.0\n",
       "         ... \n",
       "308849    0.0\n",
       "308850    1.0\n",
       "308851    NaN\n",
       "308852    0.0\n",
       "308853    0.0\n",
       "Name: DiabetesBin, Length: 308854, dtype: float64"
      ]
     },
     "execution_count": 40,
     "metadata": {},
     "output_type": "execute_result"
    }
   ],
   "source": [
    "#df['DiabetesBin'] = df['Diabetes'].map(yesmap)\n",
    "#df['DiabetesBin']"
   ]
  },
  {
   "cell_type": "code",
   "execution_count": 53,
   "id": "99ddd202",
   "metadata": {},
   "outputs": [
    {
     "data": {
      "text/plain": [
       "0         1\n",
       "1         0\n",
       "2         0\n",
       "3         0\n",
       "4         0\n",
       "         ..\n",
       "308849    0\n",
       "308850    0\n",
       "308851    0\n",
       "308852    0\n",
       "308853    0\n",
       "Name: ArthritisBin, Length: 308854, dtype: int64"
      ]
     },
     "execution_count": 53,
     "metadata": {},
     "output_type": "execute_result"
    }
   ],
   "source": [
    "df['ArthritisBin']=df['Arthritis'].map(yesmap)\n",
    "df['ArthritisBin']"
   ]
  },
  {
   "cell_type": "code",
   "execution_count": 56,
   "id": "8e9af80b",
   "metadata": {},
   "outputs": [],
   "source": [
    "##sex is binary male = 1\n",
    "sexmap = {'Male' : 1, 'Female' : 0}"
   ]
  },
  {
   "cell_type": "code",
   "execution_count": 58,
   "id": "51087edb",
   "metadata": {},
   "outputs": [
    {
     "data": {
      "text/plain": [
       "0         0\n",
       "1         0\n",
       "2         0\n",
       "3         1\n",
       "4         1\n",
       "         ..\n",
       "308849    1\n",
       "308850    1\n",
       "308851    0\n",
       "308852    1\n",
       "308853    0\n",
       "Name: IsMale, Length: 308854, dtype: int64"
      ]
     },
     "execution_count": 58,
     "metadata": {},
     "output_type": "execute_result"
    }
   ],
   "source": [
    "df['IsMale'] = df['Sex'].map(sexmap)\n",
    "df['IsMale']"
   ]
  },
  {
   "cell_type": "code",
   "execution_count": 60,
   "id": "44a3bcef",
   "metadata": {},
   "outputs": [
    {
     "data": {
      "text/plain": [
       "0         1\n",
       "1         0\n",
       "2         0\n",
       "3         0\n",
       "4         1\n",
       "         ..\n",
       "308849    0\n",
       "308850    0\n",
       "308851    1\n",
       "308852    0\n",
       "308853    0\n",
       "Name: Smoking_HistoryBin, Length: 308854, dtype: int64"
      ]
     },
     "execution_count": 60,
     "metadata": {},
     "output_type": "execute_result"
    }
   ],
   "source": [
    "df['Smoking_HistoryBin'] = df['Smoking_History'].map(yesmap)\n",
    "df['Smoking_HistoryBin']"
   ]
  },
  {
   "cell_type": "code",
   "execution_count": 63,
   "id": "ee72e653",
   "metadata": {},
   "outputs": [
    {
     "data": {
      "text/plain": [
       "General_Health                     0\n",
       "Checkup                            0\n",
       "Exercise                           0\n",
       "Heart_Disease                      0\n",
       "Skin_Cancer                        0\n",
       "Other_Cancer                       0\n",
       "Depression                         0\n",
       "Diabetes                           0\n",
       "Arthritis                          0\n",
       "Sex                                0\n",
       "Age_Category                       0\n",
       "Height_(cm)                        0\n",
       "Weight_(kg)                        0\n",
       "BMI                                0\n",
       "Smoking_History                    0\n",
       "Alcohol_Consumption                0\n",
       "Fruit_Consumption                  0\n",
       "Green_Vegetables_Consumption       0\n",
       "FriedPotato_Consumption            0\n",
       "bin                                0\n",
       "ExerciseBin                        0\n",
       "Heart_DiseaseBin                   0\n",
       "DepressionBin                      0\n",
       "Skin_CancerBin                     0\n",
       "Other_CancerBin                    0\n",
       "DiabetesBin                     9542\n",
       "ArthritisBin                       0\n",
       "IsMale                             0\n",
       "Smoking_HistoryBin                 0\n",
       "dtype: int64"
      ]
     },
     "execution_count": 63,
     "metadata": {},
     "output_type": "execute_result"
    }
   ],
   "source": [
    "df.isnull().sum() ###olhar diabetes"
   ]
  }
 ],
 "metadata": {
  "kernelspec": {
   "display_name": "Python 3 (ipykernel)",
   "language": "python",
   "name": "python3"
  },
  "language_info": {
   "codemirror_mode": {
    "name": "ipython",
    "version": 3
   },
   "file_extension": ".py",
   "mimetype": "text/x-python",
   "name": "python",
   "nbconvert_exporter": "python",
   "pygments_lexer": "ipython3",
   "version": "3.10.9"
  }
 },
 "nbformat": 4,
 "nbformat_minor": 5
}
